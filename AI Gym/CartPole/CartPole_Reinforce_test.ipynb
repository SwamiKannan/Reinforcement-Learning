{
 "cells": [
  {
   "cell_type": "code",
   "execution_count": 1,
   "id": "01df0819",
   "metadata": {},
   "outputs": [],
   "source": [
    "%config Completer.use_jedi = False"
   ]
  },
  {
   "cell_type": "code",
   "execution_count": 2,
   "id": "fd8dedb3",
   "metadata": {},
   "outputs": [],
   "source": [
    "import gym\n",
    "from gym.wrappers import Monitor\n",
    "import torch"
   ]
  },
  {
   "cell_type": "code",
   "execution_count": 3,
   "id": "b705fa73",
   "metadata": {},
   "outputs": [],
   "source": [
    "import torch.nn as nn\n",
    "import torch.nn.functional as F\n",
    "from torch.distributions import Categorical\n",
    "import numpy as np\n",
    "import matplotlib.pyplot as plt"
   ]
  },
  {
   "cell_type": "code",
   "execution_count": 7,
   "id": "6357d7da",
   "metadata": {},
   "outputs": [],
   "source": [
    "class cartpole_test(nn.Module):\n",
    "    def __init__(self, input_sz, hidden_sz,out):\n",
    "        super().__init__()\n",
    "        self.input_size=input_sz\n",
    "        self.hidden_size=hidden_sz\n",
    "        self.output_size=out\n",
    "        self.lin1=nn.Linear(self.input_size,self.hidden_size)\n",
    "        self.lin2=nn.Linear(self.hidden_size, self.output_size)\n",
    "        \n",
    "    def forward(self, X):\n",
    "        X=torch.Tensor(X)\n",
    "        out1 = F.relu(self.lin1(X))\n",
    "        out2 = F.softmax(self.lin2(out1),dim=-1)\n",
    "        dist=Categorical(out2)\n",
    "        action=dist.sample()\n",
    "        log_probs=dist.log_prob(action)\n",
    "        return action.item(), log_probs"
   ]
  },
  {
   "cell_type": "code",
   "execution_count": 8,
   "id": "8571caa6",
   "metadata": {},
   "outputs": [],
   "source": [
    "env=Monitor(gym.make('CartPole-v0'), './video', force=True)"
   ]
  },
  {
   "cell_type": "code",
   "execution_count": 9,
   "id": "d1e51956",
   "metadata": {},
   "outputs": [
    {
     "data": {
      "text/plain": [
       "cartpole_test(\n",
       "  (lin1): Linear(in_features=4, out_features=16, bias=True)\n",
       "  (lin2): Linear(in_features=16, out_features=2, bias=True)\n",
       ")"
      ]
     },
     "execution_count": 9,
     "metadata": {},
     "output_type": "execute_result"
    }
   ],
   "source": [
    "CartPole_test=cartpole_test(env.observation_space.shape[0],16,env.action_space.n)\n",
    "CartPole_test.load_state_dict(torch.load('model_cart.pt'))\n",
    "CartPole_test.eval()"
   ]
  },
  {
   "cell_type": "code",
   "execution_count": 11,
   "id": "f126bce5",
   "metadata": {},
   "outputs": [],
   "source": [
    "max_steps=1000"
   ]
  },
  {
   "cell_type": "code",
   "execution_count": 12,
   "id": "fafd1b89",
   "metadata": {},
   "outputs": [
    {
     "name": "stdout",
     "output_type": "stream",
     "text": [
      "199.0\n"
     ]
    }
   ],
   "source": [
    "final_reward=0 \n",
    "state=env.reset()\n",
    "rewards=0\n",
    "for i in range(max_steps):\n",
    "    action,_= CartPole_test.forward(state)\n",
    "    next_state, reward, done, _=env.step(action)\n",
    "    rewards+=reward\n",
    "    env.render()\n",
    "    state=next_state\n",
    "    if done:\n",
    "        break\n",
    "    final_reward=rewards\n",
    "print(final_reward)\n",
    "env.close()"
   ]
  }
 ],
 "metadata": {
  "kernelspec": {
   "display_name": "drlnd",
   "language": "python",
   "name": "drlnd"
  },
  "language_info": {
   "codemirror_mode": {
    "name": "ipython",
    "version": 3
   },
   "file_extension": ".py",
   "mimetype": "text/x-python",
   "name": "python",
   "nbconvert_exporter": "python",
   "pygments_lexer": "ipython3",
   "version": "3.6.13"
  }
 },
 "nbformat": 4,
 "nbformat_minor": 5
}
