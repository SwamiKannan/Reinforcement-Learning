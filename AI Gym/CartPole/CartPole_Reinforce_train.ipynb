{
 "cells": [
  {
   "cell_type": "code",
   "execution_count": 1,
   "id": "fdea9fbf",
   "metadata": {},
   "outputs": [],
   "source": [
    "%config Completer.use_jedi = False"
   ]
  },
  {
   "cell_type": "code",
   "execution_count": 2,
   "id": "e86dcc78",
   "metadata": {},
   "outputs": [
    {
     "data": {
      "text/plain": [
       "<torch._C.Generator at 0x22f1a428ef0>"
      ]
     },
     "execution_count": 2,
     "metadata": {},
     "output_type": "execute_result"
    }
   ],
   "source": [
    "import gym\n",
    "import torch\n",
    "torch.manual_seed(0)"
   ]
  },
  {
   "cell_type": "code",
   "execution_count": 3,
   "id": "26142608",
   "metadata": {},
   "outputs": [],
   "source": [
    "import torch.nn as nn\n",
    "import torch.nn.functional as F\n",
    "from torch.distributions import Categorical\n",
    "import numpy as np\n",
    "import matplotlib.pyplot as plt"
   ]
  },
  {
   "cell_type": "code",
   "execution_count": 4,
   "id": "02752ee2",
   "metadata": {},
   "outputs": [],
   "source": [
    "class CartModel(nn.Module):\n",
    "    def __init__(self, input_sz, hidden_sz,out):\n",
    "        super().__init__()\n",
    "        self.input_size=input_sz\n",
    "        self.hidden_size=hidden_sz\n",
    "        self.output_size=out\n",
    "        self.lin1=nn.Linear(self.input_size,self.hidden_size)\n",
    "        self.lin2=nn.Linear(self.hidden_size, self.output_size)\n",
    "        \n",
    "    def forward(self, X):\n",
    "        X=torch.Tensor(X)\n",
    "        out1 = F.relu(self.lin1(X))\n",
    "        out2 = F.softmax(self.lin2(out1),dim=-1)\n",
    "        dist=Categorical(out2)\n",
    "        action=dist.sample()\n",
    "        log_probs=dist.log_prob(action)\n",
    "        return action.item(), log_probs\n",
    "        "
   ]
  },
  {
   "cell_type": "code",
   "execution_count": 5,
   "id": "19ba3407",
   "metadata": {},
   "outputs": [],
   "source": [
    "class Agent:\n",
    "    def __init__(self,alpha,decay,gamma):\n",
    "        self.decay=decay\n",
    "        self.gamma=gamma\n",
    "        self.alpha=alpha\n",
    "    \n",
    "    def get_gamma(self,n):\n",
    "        '''\n",
    "        n - number of timesteps in episodes\n",
    "        Returns:\n",
    "        The gamma matrix that is multiplied with the rewards to get the final return for the episode\n",
    "        '''\n",
    "        self.gamma_matrix = np.array([self.gamma**i for i in range(n)])\n",
    "        return self.gamma_matrix\n",
    "    \n",
    "    def get_rewards(self,rewards):\n",
    "        self.gamma_m=self.get_gamma(len(rewards))\n",
    "        return float(sum(self.gamma_m*np.array(rewards)))"
   ]
  },
  {
   "cell_type": "code",
   "execution_count": 6,
   "id": "77bd6851",
   "metadata": {},
   "outputs": [],
   "source": [
    "def reinforce(agent,model,env,n_episodes,steps,print_every,optimizer):\n",
    "    '''\n",
    "    agent - object of Agent class\n",
    "    model - object of FCC model class\n",
    "    env - Environment from gym.ai - in this case, it is CartPole-v0\n",
    "    n_episodes - number of episodes\n",
    "    steps - Since this is a continuous environment, we need to cut off the episode after specific number of steps while training. \n",
    "    This is that parameter.\n",
    "    print_every - Till now, defined it within the function but will now use this as a parameter to decide after how many episodes should we give a status update \n",
    "    optimizer - Optimizer object to be used\n",
    "    '''\n",
    "    losses=[]\n",
    "    rewards=[]\n",
    "    final_score=[]\n",
    "    for epi in range(1,n_episodes+1):\n",
    "        reward_sum=0\n",
    "        reward_epi=[]\n",
    "        state=env.reset()\n",
    "        log_prob_epi=[]\n",
    "        for t in range(steps):\n",
    "            action,log_probs=model.forward(state)\n",
    "            log_prob_epi.append(log_probs)\n",
    "            next_state,reward,done, info=env.step(action)\n",
    "            reward_epi.append(reward)\n",
    "            reward_sum+=reward\n",
    "            state=next_state\n",
    "            if done:\n",
    "                break\n",
    "        final_score.append(reward_sum)\n",
    "        rewards.append(reward_sum)\n",
    "        return_epi=agent.get_rewards(reward_epi)\n",
    "        loss=torch.stack([return_epi*-log_prob for log_prob in log_prob_epi],dim=0).sum()\n",
    "        losses.append(loss)\n",
    "        optimizer.zero_grad()\n",
    "        loss.backward()\n",
    "        optimizer.step()\n",
    "        if epi==500:\n",
    "            for g in optimizer.param_groups:\n",
    "                g['lr'] = 5e-4\n",
    "        if epi==1500:\n",
    "            for g in optimizer.param_groups:\n",
    "                g['lr'] = 1e-4\n",
    "        if epi%print_every==0:\n",
    "            print(r'Episode:', epi, 'rewards: ',np.mean(final_score[-100:]))\n",
    "        if np.mean(final_score[-100:])>=195.0:\n",
    "            print('Exercise completed in ',epi,' episodes')\n",
    "            break\n",
    "    return rewards,losses,epi       "
   ]
  },
  {
   "cell_type": "code",
   "execution_count": 7,
   "id": "eb93bb2a",
   "metadata": {},
   "outputs": [
    {
     "name": "stdout",
     "output_type": "stream",
     "text": [
      "Environment states: Box(-3.4028234663852886e+38, 3.4028234663852886e+38, (4,), float32)\n",
      "Environment states features: 4\n",
      "Environment actions: Discrete(2)\n",
      "Environment actions count: 2\n"
     ]
    }
   ],
   "source": [
    "env=gym.make('CartPole-v0')\n",
    "model_cart=CartModel(env.observation_space.shape[0],16,env.action_space.n)\n",
    "agent=Agent(alpha=0.01, decay = 0.9999, gamma = 1)\n",
    "optimizer=torch.optim.Adam(model_cart.parameters(),lr=1e-2)\n",
    "print('Environment states:',env.observation_space)\n",
    "print('Environment states features:',env.observation_space.shape[0])\n",
    "print('Environment actions:',env.action_space)\n",
    "print('Environment actions count:',env.action_space.n)                                                                "
   ]
  },
  {
   "cell_type": "code",
   "execution_count": 8,
   "id": "edd81e97",
   "metadata": {},
   "outputs": [
    {
     "name": "stdout",
     "output_type": "stream",
     "text": [
      "Episode: 100 rewards:  29.9\n",
      "Episode: 200 rewards:  59.89\n",
      "Episode: 300 rewards:  99.48\n",
      "Episode: 400 rewards:  136.46\n",
      "Episode: 500 rewards:  153.17\n",
      "Episode: 600 rewards:  175.87\n",
      "Episode: 700 rewards:  178.39\n",
      "Episode: 800 rewards:  181.04\n",
      "Episode: 900 rewards:  182.3\n",
      "Episode: 1000 rewards:  173.56\n",
      "Episode: 1100 rewards:  181.47\n",
      "Episode: 1200 rewards:  181.4\n",
      "Episode: 1300 rewards:  188.41\n",
      "Episode: 1400 rewards:  179.79\n",
      "Episode: 1500 rewards:  179.67\n",
      "Episode: 1600 rewards:  186.19\n",
      "Episode: 1700 rewards:  184.01\n",
      "Episode: 1800 rewards:  189.2\n",
      "Episode: 1900 rewards:  190.06\n",
      "Episode: 2000 rewards:  190.57\n",
      "Episode: 2100 rewards:  188.55\n",
      "Episode: 2200 rewards:  184.64\n",
      "Episode: 2300 rewards:  190.27\n",
      "Episode: 2400 rewards:  189.17\n",
      "Episode: 2500 rewards:  186.42\n"
     ]
    }
   ],
   "source": [
    "rewards,losses,epi=reinforce(agent,model_cart,env,2500,steps=1000,print_every=100,optimizer=optimizer)"
   ]
  },
  {
   "cell_type": "code",
   "execution_count": 12,
   "id": "45b53d10",
   "metadata": {},
   "outputs": [
    {
     "data": {
      "text/plain": [
       "[<matplotlib.lines.Line2D at 0x22fb460a5c0>]"
      ]
     },
     "execution_count": 12,
     "metadata": {},
     "output_type": "execute_result"
    },
    {
     "data": {
      "image/png": "[encoded data removed]",
      "text/plain": [
       "<Figure size 432x288 with 1 Axes>"
      ]
     },
     "metadata": {
      "needs_background": "light"
     },
     "output_type": "display_data"
    }
   ],
   "source": [
    "plt.plot(range(epi),rewards)"
   ]
  },
  {
   "cell_type": "code",
   "execution_count": 13,
   "id": "c9353b12",
   "metadata": {},
   "outputs": [
    {
     "data": {
      "text/plain": [
       "[<matplotlib.lines.Line2D at 0x22fb5909198>]"
      ]
     },
     "execution_count": 13,
     "metadata": {},
     "output_type": "execute_result"
    },
    {
     "data": {
      "image/png": "[encoded data removed]",
      "text/plain": [
       "<Figure size 432x288 with 1 Axes>"
      ]
     },
     "metadata": {
      "needs_background": "light"
     },
     "output_type": "display_data"
    }
   ],
   "source": [
    "plt.plot(range(epi),losses)"
   ]
  },
  {
   "cell_type": "code",
   "execution_count": 22,
   "id": "fdf2d3db",
   "metadata": {},
   "outputs": [],
   "source": [
    "torch.save(model_cart.state_dict(),'model_cart.pt')"
   ]
  },
  {
   "cell_type": "code",
   "execution_count": null,
   "id": "257f4d6b",
   "metadata": {},
   "outputs": [],
   "source": []
  }
 ],
 "metadata": {
  "kernelspec": {
   "display_name": "drlnd",
   "language": "python",
   "name": "drlnd"
  },
  "language_info": {
   "codemirror_mode": {
    "name": "ipython",
    "version": 3
   },
   "file_extension": ".py",
   "mimetype": "text/x-python",
   "name": "python",
   "nbconvert_exporter": "python",
   "pygments_lexer": "ipython3",
   "version": "3.6.13"
  }
 },
 "nbformat": 4,
 "nbformat_minor": 5
}
