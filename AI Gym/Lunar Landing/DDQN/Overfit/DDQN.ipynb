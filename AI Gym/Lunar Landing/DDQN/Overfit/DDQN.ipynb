{
 "cells": [
  {
   "cell_type": "code",
   "execution_count": null,
   "id": "6e57e85f",
   "metadata": {
    "id": "6e57e85f"
   },
   "outputs": [],
   "source": [
    "# %config Completer.use_jedi = False"
   ]
  },
  {
   "cell_type": "code",
   "execution_count": null,
   "id": "PuHw6zZ-HJnK",
   "metadata": {
    "colab": {
     "base_uri": "https://localhost:8080/"
    },
    "id": "PuHw6zZ-HJnK",
    "outputId": "73c62a74-c597-4dac-90d5-08eab072cd00"
   },
   "outputs": [
    {
     "name": "stdout",
     "output_type": "stream",
     "text": [
      "Mounted at /content/drive/\n"
     ]
    }
   ],
   "source": [
    "from google.colab import drive\n",
    "drive.mount('/content/drive/')\n",
    "import os\n",
    "os.chdir('/content/drive/MyDrive')"
   ]
  },
  {
   "cell_type": "code",
   "execution_count": null,
   "id": "Uja8pWGWHLPt",
   "metadata": {
    "colab": {
     "base_uri": "https://localhost:8080/"
    },
    "id": "Uja8pWGWHLPt",
    "outputId": "5681964e-92fb-45ca-cc80-eed196057a81"
   },
   "outputs": [
    {
     "name": "stdout",
     "output_type": "stream",
     "text": [
      "Collecting Box2D\n",
      "  Downloading Box2D-2.3.10-cp37-cp37m-manylinux1_x86_64.whl (1.3 MB)\n",
      "\u001b[?25l\r",
      "\u001b[K     |▎                               | 10 kB 37.2 MB/s eta 0:00:01\r",
      "\u001b[K     |▌                               | 20 kB 34.3 MB/s eta 0:00:01\r",
      "\u001b[K     |▊                               | 30 kB 20.9 MB/s eta 0:00:01\r",
      "\u001b[K     |█                               | 40 kB 16.9 MB/s eta 0:00:01\r",
      "\u001b[K     |█▎                              | 51 kB 7.7 MB/s eta 0:00:01\r",
      "\u001b[K     |█▌                              | 61 kB 8.1 MB/s eta 0:00:01\r",
      "\u001b[K     |█▊                              | 71 kB 7.3 MB/s eta 0:00:01\r",
      "\u001b[K     |██                              | 81 kB 8.1 MB/s eta 0:00:01\r",
      "\u001b[K     |██▎                             | 92 kB 8.2 MB/s eta 0:00:01\r",
      "\u001b[K     |██▌                             | 102 kB 7.4 MB/s eta 0:00:01\r",
      "\u001b[K     |██▊                             | 112 kB 7.4 MB/s eta 0:00:01\r",
      "\u001b[K     |███                             | 122 kB 7.4 MB/s eta 0:00:01\r",
      "\u001b[K     |███▏                            | 133 kB 7.4 MB/s eta 0:00:01\r",
      "\u001b[K     |███▌                            | 143 kB 7.4 MB/s eta 0:00:01\r",
      "\u001b[K     |███▊                            | 153 kB 7.4 MB/s eta 0:00:01\r",
      "\u001b[K     |████                            | 163 kB 7.4 MB/s eta 0:00:01\r",
      "\u001b[K     |████▏                           | 174 kB 7.4 MB/s eta 0:00:01\r",
      "\u001b[K     |████▌                           | 184 kB 7.4 MB/s eta 0:00:01\r",
      "\u001b[K     |████▊                           | 194 kB 7.4 MB/s eta 0:00:01\r",
      "\u001b[K     |█████                           | 204 kB 7.4 MB/s eta 0:00:01\r",
      "\u001b[K     |█████▏                          | 215 kB 7.4 MB/s eta 0:00:01\r",
      "\u001b[K     |█████▌                          | 225 kB 7.4 MB/s eta 0:00:01\r",
      "\u001b[K     |█████▊                          | 235 kB 7.4 MB/s eta 0:00:01\r",
      "\u001b[K     |██████                          | 245 kB 7.4 MB/s eta 0:00:01\r",
      "\u001b[K     |██████▏                         | 256 kB 7.4 MB/s eta 0:00:01\r",
      "\u001b[K     |██████▍                         | 266 kB 7.4 MB/s eta 0:00:01\r",
      "\u001b[K     |██████▊                         | 276 kB 7.4 MB/s eta 0:00:01\r",
      "\u001b[K     |███████                         | 286 kB 7.4 MB/s eta 0:00:01\r",
      "\u001b[K     |███████▏                        | 296 kB 7.4 MB/s eta 0:00:01\r",
      "\u001b[K     |███████▍                        | 307 kB 7.4 MB/s eta 0:00:01\r",
      "\u001b[K     |███████▊                        | 317 kB 7.4 MB/s eta 0:00:01\r",
      "\u001b[K     |████████                        | 327 kB 7.4 MB/s eta 0:00:01\r",
      "\u001b[K     |████████▏                       | 337 kB 7.4 MB/s eta 0:00:01\r",
      "\u001b[K     |████████▍                       | 348 kB 7.4 MB/s eta 0:00:01\r",
      "\u001b[K     |████████▊                       | 358 kB 7.4 MB/s eta 0:00:01\r",
      "\u001b[K     |█████████                       | 368 kB 7.4 MB/s eta 0:00:01\r",
      "\u001b[K     |█████████▏                      | 378 kB 7.4 MB/s eta 0:00:01\r",
      "\u001b[K     |█████████▍                      | 389 kB 7.4 MB/s eta 0:00:01\r",
      "\u001b[K     |█████████▋                      | 399 kB 7.4 MB/s eta 0:00:01\r",
      "\u001b[K     |██████████                      | 409 kB 7.4 MB/s eta 0:00:01\r",
      "\u001b[K     |██████████▏                     | 419 kB 7.4 MB/s eta 0:00:01\r",
      "\u001b[K     |██████████▍                     | 430 kB 7.4 MB/s eta 0:00:01\r",
      "\u001b[K     |██████████▋                     | 440 kB 7.4 MB/s eta 0:00:01\r",
      "\u001b[K     |███████████                     | 450 kB 7.4 MB/s eta 0:00:01\r",
      "\u001b[K     |███████████▏                    | 460 kB 7.4 MB/s eta 0:00:01\r",
      "\u001b[K     |███████████▍                    | 471 kB 7.4 MB/s eta 0:00:01\r",
      "\u001b[K     |███████████▋                    | 481 kB 7.4 MB/s eta 0:00:01\r",
      "\u001b[K     |████████████                    | 491 kB 7.4 MB/s eta 0:00:01\r",
      "\u001b[K     |████████████▏                   | 501 kB 7.4 MB/s eta 0:00:01\r",
      "\u001b[K     |████████████▍                   | 512 kB 7.4 MB/s eta 0:00:01\r",
      "\u001b[K     |████████████▋                   | 522 kB 7.4 MB/s eta 0:00:01\r",
      "\u001b[K     |████████████▉                   | 532 kB 7.4 MB/s eta 0:00:01\r",
      "\u001b[K     |█████████████▏                  | 542 kB 7.4 MB/s eta 0:00:01\r",
      "\u001b[K     |█████████████▍                  | 552 kB 7.4 MB/s eta 0:00:01\r",
      "\u001b[K     |█████████████▋                  | 563 kB 7.4 MB/s eta 0:00:01\r",
      "\u001b[K     |█████████████▉                  | 573 kB 7.4 MB/s eta 0:00:01\r",
      "\u001b[K     |██████████████▏                 | 583 kB 7.4 MB/s eta 0:00:01\r",
      "\u001b[K     |██████████████▍                 | 593 kB 7.4 MB/s eta 0:00:01\r",
      "\u001b[K     |██████████████▋                 | 604 kB 7.4 MB/s eta 0:00:01\r",
      "\u001b[K     |██████████████▉                 | 614 kB 7.4 MB/s eta 0:00:01\r",
      "\u001b[K     |███████████████▏                | 624 kB 7.4 MB/s eta 0:00:01\r",
      "\u001b[K     |███████████████▍                | 634 kB 7.4 MB/s eta 0:00:01\r",
      "\u001b[K     |███████████████▋                | 645 kB 7.4 MB/s eta 0:00:01\r",
      "\u001b[K     |███████████████▉                | 655 kB 7.4 MB/s eta 0:00:01\r",
      "\u001b[K     |████████████████                | 665 kB 7.4 MB/s eta 0:00:01\r",
      "\u001b[K     |████████████████▍               | 675 kB 7.4 MB/s eta 0:00:01\r",
      "\u001b[K     |████████████████▋               | 686 kB 7.4 MB/s eta 0:00:01\r",
      "\u001b[K     |████████████████▉               | 696 kB 7.4 MB/s eta 0:00:01\r",
      "\u001b[K     |█████████████████               | 706 kB 7.4 MB/s eta 0:00:01\r",
      "\u001b[K     |█████████████████▍              | 716 kB 7.4 MB/s eta 0:00:01\r",
      "\u001b[K     |█████████████████▋              | 727 kB 7.4 MB/s eta 0:00:01\r",
      "\u001b[K     |█████████████████▉              | 737 kB 7.4 MB/s eta 0:00:01\r",
      "\u001b[K     |██████████████████              | 747 kB 7.4 MB/s eta 0:00:01\r",
      "\u001b[K     |██████████████████▎             | 757 kB 7.4 MB/s eta 0:00:01\r",
      "\u001b[K     |██████████████████▋             | 768 kB 7.4 MB/s eta 0:00:01\r",
      "\u001b[K     |██████████████████▉             | 778 kB 7.4 MB/s eta 0:00:01\r",
      "\u001b[K     |███████████████████             | 788 kB 7.4 MB/s eta 0:00:01\r",
      "\u001b[K     |███████████████████▎            | 798 kB 7.4 MB/s eta 0:00:01\r",
      "\u001b[K     |███████████████████▋            | 808 kB 7.4 MB/s eta 0:00:01\r",
      "\u001b[K     |███████████████████▉            | 819 kB 7.4 MB/s eta 0:00:01\r",
      "\u001b[K     |████████████████████            | 829 kB 7.4 MB/s eta 0:00:01\r",
      "\u001b[K     |████████████████████▎           | 839 kB 7.4 MB/s eta 0:00:01\r",
      "\u001b[K     |████████████████████▋           | 849 kB 7.4 MB/s eta 0:00:01\r",
      "\u001b[K     |████████████████████▉           | 860 kB 7.4 MB/s eta 0:00:01\r",
      "\u001b[K     |█████████████████████           | 870 kB 7.4 MB/s eta 0:00:01\r",
      "\u001b[K     |█████████████████████▎          | 880 kB 7.4 MB/s eta 0:00:01\r",
      "\u001b[K     |█████████████████████▌          | 890 kB 7.4 MB/s eta 0:00:01\r",
      "\u001b[K     |█████████████████████▉          | 901 kB 7.4 MB/s eta 0:00:01\r",
      "\u001b[K     |██████████████████████          | 911 kB 7.4 MB/s eta 0:00:01\r",
      "\u001b[K     |██████████████████████▎         | 921 kB 7.4 MB/s eta 0:00:01\r",
      "\u001b[K     |██████████████████████▌         | 931 kB 7.4 MB/s eta 0:00:01\r",
      "\u001b[K     |██████████████████████▉         | 942 kB 7.4 MB/s eta 0:00:01\r",
      "\u001b[K     |███████████████████████         | 952 kB 7.4 MB/s eta 0:00:01\r",
      "\u001b[K     |███████████████████████▎        | 962 kB 7.4 MB/s eta 0:00:01\r",
      "\u001b[K     |███████████████████████▌        | 972 kB 7.4 MB/s eta 0:00:01\r",
      "\u001b[K     |███████████████████████▉        | 983 kB 7.4 MB/s eta 0:00:01\r",
      "\u001b[K     |████████████████████████        | 993 kB 7.4 MB/s eta 0:00:01\r",
      "\u001b[K     |████████████████████████▎       | 1.0 MB 7.4 MB/s eta 0:00:01\r",
      "\u001b[K     |████████████████████████▌       | 1.0 MB 7.4 MB/s eta 0:00:01\r",
      "\u001b[K     |████████████████████████▊       | 1.0 MB 7.4 MB/s eta 0:00:01\r",
      "\u001b[K     |█████████████████████████       | 1.0 MB 7.4 MB/s eta 0:00:01\r",
      "\u001b[K     |█████████████████████████▎      | 1.0 MB 7.4 MB/s eta 0:00:01\r",
      "\u001b[K     |█████████████████████████▌      | 1.1 MB 7.4 MB/s eta 0:00:01\r",
      "\u001b[K     |█████████████████████████▊      | 1.1 MB 7.4 MB/s eta 0:00:01\r",
      "\u001b[K     |██████████████████████████      | 1.1 MB 7.4 MB/s eta 0:00:01\r",
      "\u001b[K     |██████████████████████████▎     | 1.1 MB 7.4 MB/s eta 0:00:01\r",
      "\u001b[K     |██████████████████████████▌     | 1.1 MB 7.4 MB/s eta 0:00:01\r",
      "\u001b[K     |██████████████████████████▊     | 1.1 MB 7.4 MB/s eta 0:00:01\r",
      "\u001b[K     |███████████████████████████     | 1.1 MB 7.4 MB/s eta 0:00:01\r",
      "\u001b[K     |███████████████████████████▎    | 1.1 MB 7.4 MB/s eta 0:00:01\r",
      "\u001b[K     |███████████████████████████▌    | 1.1 MB 7.4 MB/s eta 0:00:01\r",
      "\u001b[K     |███████████████████████████▊    | 1.1 MB 7.4 MB/s eta 0:00:01\r",
      "\u001b[K     |████████████████████████████    | 1.2 MB 7.4 MB/s eta 0:00:01\r",
      "\u001b[K     |████████████████████████████▎   | 1.2 MB 7.4 MB/s eta 0:00:01\r",
      "\u001b[K     |████████████████████████████▌   | 1.2 MB 7.4 MB/s eta 0:00:01\r",
      "\u001b[K     |████████████████████████████▊   | 1.2 MB 7.4 MB/s eta 0:00:01\r",
      "\u001b[K     |█████████████████████████████   | 1.2 MB 7.4 MB/s eta 0:00:01\r",
      "\u001b[K     |█████████████████████████████▎  | 1.2 MB 7.4 MB/s eta 0:00:01\r",
      "\u001b[K     |█████████████████████████████▌  | 1.2 MB 7.4 MB/s eta 0:00:01\r",
      "\u001b[K     |█████████████████████████████▊  | 1.2 MB 7.4 MB/s eta 0:00:01\r",
      "\u001b[K     |██████████████████████████████  | 1.2 MB 7.4 MB/s eta 0:00:01\r",
      "\u001b[K     |██████████████████████████████▎ | 1.2 MB 7.4 MB/s eta 0:00:01\r",
      "\u001b[K     |██████████████████████████████▌ | 1.3 MB 7.4 MB/s eta 0:00:01\r",
      "\u001b[K     |██████████████████████████████▊ | 1.3 MB 7.4 MB/s eta 0:00:01\r",
      "\u001b[K     |███████████████████████████████ | 1.3 MB 7.4 MB/s eta 0:00:01\r",
      "\u001b[K     |███████████████████████████████▏| 1.3 MB 7.4 MB/s eta 0:00:01\r",
      "\u001b[K     |███████████████████████████████▌| 1.3 MB 7.4 MB/s eta 0:00:01\r",
      "\u001b[K     |███████████████████████████████▊| 1.3 MB 7.4 MB/s eta 0:00:01\r",
      "\u001b[K     |████████████████████████████████| 1.3 MB 7.4 MB/s eta 0:00:01\r",
      "\u001b[K     |████████████████████████████████| 1.3 MB 7.4 MB/s \n",
      "\u001b[?25hInstalling collected packages: Box2D\n",
      "Successfully installed Box2D-2.3.10\n",
      "Collecting box2d-py\n",
      "  Downloading box2d_py-2.3.8-cp37-cp37m-manylinux1_x86_64.whl (448 kB)\n",
      "\u001b[K     |████████████████████████████████| 448 kB 7.1 MB/s \n",
      "\u001b[?25hInstalling collected packages: box2d-py\n",
      "Successfully installed box2d-py-2.3.8\n",
      "Requirement already satisfied: gym[Box_2D] in /usr/local/lib/python3.7/dist-packages (0.17.3)\n",
      "\u001b[33mWARNING: gym 0.17.3 does not provide the extra 'box_2d'\u001b[0m\n",
      "Requirement already satisfied: pyglet<=1.5.0,>=1.4.0 in /usr/local/lib/python3.7/dist-packages (from gym[Box_2D]) (1.5.0)\n",
      "Requirement already satisfied: cloudpickle<1.7.0,>=1.2.0 in /usr/local/lib/python3.7/dist-packages (from gym[Box_2D]) (1.3.0)\n",
      "Requirement already satisfied: scipy in /usr/local/lib/python3.7/dist-packages (from gym[Box_2D]) (1.4.1)\n",
      "Requirement already satisfied: numpy>=1.10.4 in /usr/local/lib/python3.7/dist-packages (from gym[Box_2D]) (1.19.5)\n",
      "Requirement already satisfied: future in /usr/local/lib/python3.7/dist-packages (from pyglet<=1.5.0,>=1.4.0->gym[Box_2D]) (0.16.0)\n"
     ]
    }
   ],
   "source": [
    "!pip3 install Box2D\n",
    "!pip3 install box2d-py\n",
    "# !pip3 uninstall gym[all]\n",
    "!pip3 install gym[Box_2D]"
   ]
  },
  {
   "cell_type": "code",
   "execution_count": null,
   "id": "2fc02625",
   "metadata": {
    "id": "2fc02625"
   },
   "outputs": [],
   "source": [
    "import numpy as np\n",
    "import matplotlib.pyplot as plt\n",
    "import torch\n",
    "import torch.nn as nn\n",
    "import torch.nn.functional as F\n",
    "from collections import namedtuple\n",
    "import random\n",
    "import gym"
   ]
  },
  {
   "cell_type": "code",
   "execution_count": null,
   "id": "96ff5ca3",
   "metadata": {
    "id": "96ff5ca3"
   },
   "outputs": [],
   "source": [
    "env=gym.make('LunarLander-v2')\n",
    "state=env.reset()"
   ]
  },
  {
   "cell_type": "code",
   "execution_count": null,
   "id": "1a756b34",
   "metadata": {
    "id": "1a756b34"
   },
   "outputs": [],
   "source": [
    "class Buffer():\n",
    "    def __init__(self, batch_size=64,buffer_size=1e4):\n",
    "        self.batch_size=batch_size\n",
    "        self.buffer=buffer_size\n",
    "        self.relay=[]\n",
    "        self.timestep=namedtuple('experience',field_names=('state','action','reward','next_state','done'))\n",
    "        self.count=0\n",
    "    \n",
    "    def append_timestep(self,state,action, reward,next_state,done):\n",
    "        tp=self.timestep(state,action, reward,next_state,done)\n",
    "        if self.count<self.buffer:\n",
    "            self.relay.append(tp)\n",
    "        else:\n",
    "            self.relay[int((self.count+1)%self.buffer)]=tp\n",
    "        self.count+=1\n",
    "            \n",
    "    def get_samples(self):\n",
    "        np.random.seed(42)\n",
    "        samples=random.sample(self.relay,self.batch_size)\n",
    "        states=torch.from_numpy(np.vstack([e.state for e in samples])).float().cuda()\n",
    "        actions=torch.from_numpy(np.vstack([e.action for e in samples])).long().cuda()\n",
    "        rewards=torch.from_numpy(np.vstack([e.reward for e in samples])).float().cuda()\n",
    "        next_states=torch.from_numpy(np.vstack([e.next_state for e in samples])).float().cuda()\n",
    "        dones=torch.from_numpy(np.vstack([e.done for e in samples]).astype(np.uint8)).long().cuda()\n",
    "        return states,actions, rewards,next_states,dones"
   ]
  },
  {
   "cell_type": "code",
   "execution_count": null,
   "id": "e5469e45",
   "metadata": {
    "id": "e5469e45"
   },
   "outputs": [],
   "source": [
    "buffer_test=Buffer()\n",
    "for i in range(100):\n",
    "    action=env.action_space.sample()\n",
    "    next_state, reward, done, info=env.step(action)\n",
    "    buffer_test.append_timestep(state,action, reward,next_state,done)\n",
    "    next_state=state"
   ]
  },
  {
   "cell_type": "code",
   "execution_count": null,
   "id": "37d2229a",
   "metadata": {
    "id": "37d2229a"
   },
   "outputs": [],
   "source": [
    "states, action, rewards, next_states,dones=buffer_test.get_samples()"
   ]
  },
  {
   "cell_type": "code",
   "execution_count": null,
   "id": "c28011f3",
   "metadata": {
    "colab": {
     "base_uri": "https://localhost:8080/"
    },
    "id": "c28011f3",
    "outputId": "f6a29616-18e1-4cc9-ab63-0c8cae6141a8"
   },
   "outputs": [
    {
     "name": "stdout",
     "output_type": "stream",
     "text": [
      "Shape of state torch.Size([64, 8])\n",
      "Shape of actions torch.Size([64, 1])\n",
      "Shape of rewards torch.Size([64, 1])\n",
      "Shape of next_state torch.Size([64, 8])\n",
      "Shape of dones torch.Size([64, 1])\n"
     ]
    }
   ],
   "source": [
    "print('Shape of state',states.shape)\n",
    "print('Shape of actions',action.shape)\n",
    "print('Shape of rewards',rewards.shape)\n",
    "print('Shape of next_state',next_states.shape)\n",
    "print('Shape of dones',dones.shape)"
   ]
  },
  {
   "cell_type": "code",
   "execution_count": null,
   "id": "e35fd6ff",
   "metadata": {
    "id": "e35fd6ff"
   },
   "outputs": [],
   "source": [
    "class DDQN(nn.Module):\n",
    "    def __init__(self, input_size, hidden_layer1=64, hidden_layer2=64,out=4):\n",
    "        super().__init__()\n",
    "        self.lin1=nn.Linear(input_size,hidden_layer1)\n",
    "        self.lin2=nn.Linear(hidden_layer1,hidden_layer2)\n",
    "        self.lin3=nn.Linear(hidden_layer2,out)\n",
    "        \n",
    "        \n",
    "    def forward(self,X):\n",
    "        X=F.relu(self.lin1(X))\n",
    "        X=F.relu(self.lin2(X))\n",
    "        X=self.lin3(X)\n",
    "        return X"
   ]
  },
  {
   "cell_type": "code",
   "execution_count": null,
   "id": "442cec90",
   "metadata": {
    "colab": {
     "base_uri": "https://localhost:8080/"
    },
    "id": "442cec90",
    "outputId": "32e41a74-a01d-4218-89e2-e3160d735bdf"
   },
   "outputs": [
    {
     "data": {
      "text/plain": [
       "torch.Size([64, 8])"
      ]
     },
     "execution_count": 11,
     "metadata": {},
     "output_type": "execute_result"
    }
   ],
   "source": [
    "states.shape"
   ]
  },
  {
   "cell_type": "code",
   "execution_count": null,
   "id": "f536c782",
   "metadata": {
    "id": "f536c782"
   },
   "outputs": [],
   "source": [
    "torch.random.manual_seed(42)\n",
    "pred_DDQN=DDQN(input_size=states.shape[1]).cuda()\n",
    "target_DDQN=DDQN(input_size=states.shape[1]).cuda()\n",
    "optimizer=torch.optim.Adam(pred_DDQN.parameters(),lr=5e-4)\n",
    "criterion=nn.MSELoss()"
   ]
  },
  {
   "cell_type": "code",
   "execution_count": null,
   "id": "8f68bf5e",
   "metadata": {
    "id": "8f68bf5e"
   },
   "outputs": [],
   "source": [
    "y_check=pred_DDQN.forward(states)\n",
    "x=pred_DDQN(states)\n",
    "# print(x.shape)\n",
    "# indices=torch.tensor(np.arange(0,64)).long()\n",
    "# print(indices.shape)\n",
    "# x.gather(0,indices.reshape(-1,1)).shape"
   ]
  },
  {
   "cell_type": "code",
   "execution_count": null,
   "id": "f9fa1f51",
   "metadata": {
    "id": "f9fa1f51"
   },
   "outputs": [],
   "source": [
    "class Agent():\n",
    "    def __init__(self, buffer, pred_net, tgt_net,seed,reset,gamma=0.99, epsilon=1.0, decay=0.995,epsilon_min=0.01):\n",
    "        self.pred_net=pred_net\n",
    "        self.tgt_net=tgt_net\n",
    "        self.gamma=gamma\n",
    "        self.epsilon=epsilon\n",
    "        self.decay=decay\n",
    "        self.epsilon_min=epsilon_min\n",
    "        self.seed=seed\n",
    "        self.count=0\n",
    "        self.reset=reset\n",
    "        self.buffer=buffer\n",
    "        \n",
    "    def reset_epsilon(self):\n",
    "        self.epsilon=min(self.epsilon*self.decay,self.epsilon_min)\n",
    "    def get_action(self,env,state):\n",
    "        if random.random()>self.epsilon:\n",
    "            with torch.no_grad():\n",
    "                state=torch.Tensor(state).float().cuda()\n",
    "                action=torch.argmax(self.pred_net.forward(state)).item()\n",
    "        else:\n",
    "            action = env.action_space.sample()\n",
    "        return action\n",
    "    \n",
    "    def learn_agent(self):\n",
    "        states,actions, rewards,next_states,dones=self.buffer.get_samples()\n",
    "        check=self.pred_net(states)\n",
    "        y_pred=self.pred_net.forward(states).gather(1,actions)\n",
    "        pred_action=torch.argmax(self.pred_net(next_states),dim=1)\n",
    "        y_tgt=rewards+self.gamma*((self.tgt_net(next_states).gather(1,pred_action.reshape(-1,1)))*(1-dones).detach())\n",
    "        loss=criterion(y_pred,y_tgt)\n",
    "        optimizer.zero_grad()\n",
    "        loss.backward()\n",
    "        optimizer.step()\n",
    "        self.count+=1\n",
    "        return loss\n",
    "        \n",
    "    def refresh(self):\n",
    "        if self.count==self.reset:\n",
    "            for pred, targ in zip(self.pred_net.parameters(), self.tgt_net.parameters()):\n",
    "                targ.data.copy_(pred.data)\n",
    "            self.count=0"
   ]
  },
  {
   "cell_type": "code",
   "execution_count": null,
   "id": "6424eb58",
   "metadata": {
    "id": "6424eb58"
   },
   "outputs": [],
   "source": [
    "buffer=Buffer()\n",
    "agent=Agent(buffer,pred_DDQN,target_DDQN,42,reset=500)"
   ]
  },
  {
   "cell_type": "code",
   "execution_count": null,
   "id": "06ffe40b",
   "metadata": {
    "colab": {
     "base_uri": "https://localhost:8080/"
    },
    "id": "06ffe40b",
    "outputId": "4846b0aa-b737-4409-ac7b-0e154182b3d2"
   },
   "outputs": [
    {
     "name": "stdout",
     "output_type": "stream",
     "text": [
      "525\n"
     ]
    }
   ],
   "source": [
    "for i in range(5):\n",
    "    state=env.reset()\n",
    "    done=False\n",
    "    while not done:\n",
    "        action=env.action_space.sample()\n",
    "        next_state, reward, done,_ = env.step(action)\n",
    "        agent.buffer.append_timestep(state,action, reward,next_state,done)\n",
    "        state=next_state\n",
    "print(len(agent.buffer.relay))"
   ]
  },
  {
   "cell_type": "code",
   "execution_count": null,
   "id": "4e8f5bc3",
   "metadata": {
    "id": "4e8f5bc3"
   },
   "outputs": [],
   "source": [
    "def run_experiment(env, agent, episode_count):\n",
    "    losses_episode=[]\n",
    "    rewards_episode=[]\n",
    "    best_avg_reward=-np.inf\n",
    "    for i in range(episode_count):\n",
    "        reward_episode=0\n",
    "        print('\\rEpisode {} '.format(i),end=\"\")\n",
    "        state=env.reset()\n",
    "        done=False\n",
    "        while not done:\n",
    "            action=agent.get_action(env,state)\n",
    "            next_state,reward,done,_=env.step(action)\n",
    "            reward_episode+=reward\n",
    "            agent.buffer.append_timestep(state,action, reward,next_state,done)\n",
    "            loss=agent.learn_agent()\n",
    "            state=next_state\n",
    "            agent.refresh()\n",
    "        if (i+1)%100==0:\n",
    "            avg_reward=np.mean(rewards_episode[-100:])\n",
    "            print('\\nAverage Reward for last 100 episodes:',avg_reward)\n",
    "            print(f'Loss for {i}th episode is:',loss.item())\n",
    "            if avg_reward>200:\n",
    "                print(f'Threshold average crossed. Average reward:',avg_reward)\n",
    "                torch.save(agent.pred_net.state_dict(), 'DDQN_pred_model_weights.pth')\n",
    "                torch.save(agent.tgt_net.state_dict(), 'DDQN_target_model_weights.pth')\n",
    "            if avg_reward > best_avg_reward:\n",
    "                best_avg_reward=avg_reward\n",
    "                if avg_reward>200:\n",
    "                    print('\\nPrevious average beaten. New average reward:', best_avg_reward)\n",
    "                    torch.save(agent.pred_net.state_dict(), 'DDQN_pred_best_model_weights.pth')\n",
    "                    torch.save(agent.tgt_net.state_dict(), 'DDQN_target_best_model_weights.pth')\n",
    "        agent.reset_epsilon()\n",
    "        losses_episode.append(loss.item())\n",
    "        rewards_episode.append(reward_episode)\n",
    "    return losses_episode, rewards_episode"
   ]
  },
  {
   "cell_type": "code",
   "execution_count": null,
   "id": "f29ed728",
   "metadata": {
    "colab": {
     "base_uri": "https://localhost:8080/"
    },
    "id": "f29ed728",
    "outputId": "eb7f4484-b87c-49f8-b5db-f549fa89f53b"
   },
   "outputs": [
    {
     "name": "stdout",
     "output_type": "stream",
     "text": [
      "Episode 99 \n",
      "Average Reward for last 100 episodes: -106.63226769043355\n",
      "Loss for 99th episode is: 0.963578999042511\n",
      "Episode 199 \n",
      "Average Reward for last 100 episodes: 7.947155494945402\n",
      "Loss for 199th episode is: 1.2070624828338623\n",
      "Episode 299 \n",
      "Average Reward for last 100 episodes: 125.38107975688271\n",
      "Loss for 299th episode is: 33.359336853027344\n",
      "Episode 399 \n",
      "Average Reward for last 100 episodes: 211.57499891712916\n",
      "Loss for 399th episode is: 4.276256084442139\n",
      "Threshold average crossed. Average reward: 211.57499891712916\n",
      "\n",
      "Previous average beaten. New average reward: 211.57499891712916\n",
      "Episode 499 \n",
      "Average Reward for last 100 episodes: 200.78916074142498\n",
      "Loss for 499th episode is: 8.67947769165039\n",
      "Threshold average crossed. Average reward: 200.78916074142498\n",
      "Episode 599 \n",
      "Average Reward for last 100 episodes: 231.29036482932108\n",
      "Loss for 599th episode is: 1.6336939334869385\n",
      "Threshold average crossed. Average reward: 231.29036482932108\n",
      "\n",
      "Previous average beaten. New average reward: 231.29036482932108\n",
      "Episode 699 \n",
      "Average Reward for last 100 episodes: 200.75019571019922\n",
      "Loss for 699th episode is: 2.0455322265625\n",
      "Threshold average crossed. Average reward: 200.75019571019922\n",
      "Episode 799 \n",
      "Average Reward for last 100 episodes: 229.33177247262523\n",
      "Loss for 799th episode is: 1.392960548400879\n",
      "Threshold average crossed. Average reward: 229.33177247262523\n",
      "Episode 899 \n",
      "Average Reward for last 100 episodes: 257.1810447841619\n",
      "Loss for 899th episode is: 1.393561601638794\n",
      "Threshold average crossed. Average reward: 257.1810447841619\n",
      "\n",
      "Previous average beaten. New average reward: 257.1810447841619\n",
      "Episode 999 \n",
      "Average Reward for last 100 episodes: 228.62693744541576\n",
      "Loss for 999th episode is: 52.18171691894531\n",
      "Threshold average crossed. Average reward: 228.62693744541576\n",
      "Episode 1099 \n",
      "Average Reward for last 100 episodes: 136.4909827822244\n",
      "Loss for 1099th episode is: 21.11172103881836\n",
      "Episode 1199 \n",
      "Average Reward for last 100 episodes: 208.6044196403353\n",
      "Loss for 1199th episode is: 2.3744935989379883\n",
      "Threshold average crossed. Average reward: 208.6044196403353\n",
      "Episode 1299 \n",
      "Average Reward for last 100 episodes: 215.6034934392427\n",
      "Loss for 1299th episode is: 2.834594249725342\n",
      "Threshold average crossed. Average reward: 215.6034934392427\n",
      "Episode 1399 \n",
      "Average Reward for last 100 episodes: 160.6776288715693\n",
      "Loss for 1399th episode is: 1.5824458599090576\n",
      "Episode 1499 \n",
      "Average Reward for last 100 episodes: 211.9354157893444\n",
      "Loss for 1499th episode is: 10.04770278930664\n",
      "Threshold average crossed. Average reward: 211.9354157893444\n",
      "Episode 1599 \n",
      "Average Reward for last 100 episodes: 192.50745643967915\n",
      "Loss for 1599th episode is: 13.488055229187012\n",
      "Episode 1699 \n",
      "Average Reward for last 100 episodes: 236.5530989483628\n",
      "Loss for 1699th episode is: 2.295959949493408\n",
      "Threshold average crossed. Average reward: 236.5530989483628\n",
      "Episode 1799 \n",
      "Average Reward for last 100 episodes: 110.16203877618928\n",
      "Loss for 1799th episode is: 42.75688552856445\n",
      "Episode 1899 \n",
      "Average Reward for last 100 episodes: 0.6422750049545618\n",
      "Loss for 1899th episode is: 9.685209274291992\n",
      "Episode 1999 \n",
      "Average Reward for last 100 episodes: 134.99308689950257\n",
      "Loss for 1999th episode is: 14.668188095092773\n"
     ]
    }
   ],
   "source": [
    "final_losses,final_rewards=run_experiment(env, agent, episode_count=2000)"
   ]
  },
  {
   "cell_type": "code",
   "execution_count": null,
   "id": "0UGtfpJK7re5",
   "metadata": {
    "id": "0UGtfpJK7re5"
   },
   "outputs": [],
   "source": [
    "np.save('DDQN_epside_rewards_large.txt',final_rewards)\n",
    "np.save('DDQN_episode_loss_large.txt',final_losses)"
   ]
  },
  {
   "cell_type": "code",
   "execution_count": null,
   "id": "04bdb7b2",
   "metadata": {
    "colab": {
     "base_uri": "https://localhost:8080/",
     "height": 350
    },
    "id": "04bdb7b2",
    "outputId": "4a481a97-9beb-47b3-ad4a-a4eed6204807"
   },
   "outputs": [
    {
     "data": {
      "image/png": "[encoded data removed]",
      "text/plain": [
       "<Figure size 1080x360 with 1 Axes>"
      ]
     },
     "metadata": {
      "needs_background": "light"
     },
     "output_type": "display_data"
    }
   ],
   "source": [
    "plt.figure(figsize=(15,5))\n",
    "plt.plot(range(2000),final_rewards,color='#ff9c00')\n",
    "plt.axhline(y=200,linewidth=1,color='red')\n",
    "plt.xlabel('Episode number')\n",
    "plt.ylabel('Rewards for episode')\n",
    "plt.title('Rewards vs. Episode number')\n",
    "plt.show()"
   ]
  },
  {
   "cell_type": "code",
   "execution_count": null,
   "id": "de7f5547",
   "metadata": {
    "colab": {
     "base_uri": "https://localhost:8080/",
     "height": 350
    },
    "id": "de7f5547",
    "outputId": "6561b4ef-c938-4663-ec9e-107a620aeb75"
   },
   "outputs": [
    {
     "data": {
      "image/png": "[encoded data removed]",
      "text/plain": [
       "<Figure size 1080x360 with 1 Axes>"
      ]
     },
     "metadata": {
      "needs_background": "light"
     },
     "output_type": "display_data"
    }
   ],
   "source": [
    "plt.figure(figsize=(15,5))\n",
    "plt.plot(range(2000),final_losses,color='#afafaf')\n",
    "plt.xlabel('Episode number')\n",
    "plt.ylabel('Loss for episode')\n",
    "plt.title('Loss vs. Episode number')\n",
    "plt.show()"
   ]
  },
  {
   "cell_type": "code",
   "execution_count": null,
   "id": "EPvoaWCP6srL",
   "metadata": {
    "colab": {
     "base_uri": "https://localhost:8080/",
     "height": 286
    },
    "id": "EPvoaWCP6srL",
    "outputId": "b5c462b4-4905-416b-9c2c-d84f64c5ab1c"
   },
   "outputs": [
    {
     "data": {
      "text/plain": [
       "[<matplotlib.lines.Line2D at 0x7f1785fd3c90>]"
      ]
     },
     "execution_count": 24,
     "metadata": {},
     "output_type": "execute_result"
    },
    {
     "data": {
      "image/png": "[encoded data removed]",
      "text/plain": [
       "<Figure size 432x288 with 1 Axes>"
      ]
     },
     "metadata": {
      "needs_background": "light"
     },
     "output_type": "display_data"
    }
   ],
   "source": [
    "plt.plot(range(2000), final_rewards)"
   ]
  },
  {
   "cell_type": "code",
   "execution_count": null,
   "id": "HWWzJBDz6vPi",
   "metadata": {
    "id": "HWWzJBDz6vPi"
   },
   "outputs": [],
   "source": []
  }
 ],
 "metadata": {
  "accelerator": "GPU",
  "colab": {
   "collapsed_sections": [],
   "machine_shape": "hm",
   "name": "DDQN.ipynb",
   "provenance": []
  },
  "kernelspec": {
   "display_name": "Python 3",
   "language": "python",
   "name": "python3"
  },
  "language_info": {
   "codemirror_mode": {
    "name": "ipython",
    "version": 3
   },
   "file_extension": ".py",
   "mimetype": "text/x-python",
   "name": "python",
   "nbconvert_exporter": "python",
   "pygments_lexer": "ipython3",
   "version": "3.6.13"
  }
 },
 "nbformat": 4,
 "nbformat_minor": 5
}
