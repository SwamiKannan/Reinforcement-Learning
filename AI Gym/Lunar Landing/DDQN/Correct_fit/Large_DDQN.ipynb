{
 "cells": [
  {
   "cell_type": "code",
   "execution_count": 1,
   "id": "6e57e85f",
   "metadata": {
    "id": "6e57e85f"
   },
   "outputs": [],
   "source": [
    "# %config Completer.use_jedi = False"
   ]
  },
  {
   "cell_type": "code",
   "execution_count": 2,
   "id": "PuHw6zZ-HJnK",
   "metadata": {
    "colab": {
     "base_uri": "https://localhost:8080/"
    },
    "id": "PuHw6zZ-HJnK",
    "outputId": "3a5ec26e-35c2-4094-c09b-8adbc0fd25ea"
   },
   "outputs": [
    {
     "name": "stdout",
     "output_type": "stream",
     "text": [
      "Mounted at /content/drive/\n"
     ]
    }
   ],
   "source": [
    "from google.colab import drive\n",
    "drive.mount('/content/drive/')\n",
    "import os\n",
    "os.chdir('/content/drive/MyDrive')"
   ]
  },
  {
   "cell_type": "code",
   "execution_count": 3,
   "id": "Uja8pWGWHLPt",
   "metadata": {
    "colab": {
     "base_uri": "https://localhost:8080/"
    },
    "id": "Uja8pWGWHLPt",
    "outputId": "f5acefdf-f920-4c63-b122-f52ba5d5bf26"
   },
   "outputs": [
    {
     "name": "stdout",
     "output_type": "stream",
     "text": [
      "Collecting Box2D\n",
      "  Downloading Box2D-2.3.10-cp37-cp37m-manylinux1_x86_64.whl (1.3 MB)\n",
      "\u001b[K     |████████████████████████████████| 1.3 MB 9.9 MB/s \n",
      "\u001b[?25hInstalling collected packages: Box2D\n",
      "Successfully installed Box2D-2.3.10\n",
      "Collecting box2d-py\n",
      "  Downloading box2d_py-2.3.8-cp37-cp37m-manylinux1_x86_64.whl (448 kB)\n",
      "\u001b[K     |████████████████████████████████| 448 kB 7.2 MB/s \n",
      "\u001b[?25hInstalling collected packages: box2d-py\n",
      "Successfully installed box2d-py-2.3.8\n",
      "Requirement already satisfied: gym[Box_2D] in /usr/local/lib/python3.7/dist-packages (0.17.3)\n",
      "\u001b[33mWARNING: gym 0.17.3 does not provide the extra 'box_2d'\u001b[0m\n",
      "Requirement already satisfied: scipy in /usr/local/lib/python3.7/dist-packages (from gym[Box_2D]) (1.4.1)\n",
      "Requirement already satisfied: cloudpickle<1.7.0,>=1.2.0 in /usr/local/lib/python3.7/dist-packages (from gym[Box_2D]) (1.3.0)\n",
      "Requirement already satisfied: numpy>=1.10.4 in /usr/local/lib/python3.7/dist-packages (from gym[Box_2D]) (1.19.5)\n",
      "Requirement already satisfied: pyglet<=1.5.0,>=1.4.0 in /usr/local/lib/python3.7/dist-packages (from gym[Box_2D]) (1.5.0)\n",
      "Requirement already satisfied: future in /usr/local/lib/python3.7/dist-packages (from pyglet<=1.5.0,>=1.4.0->gym[Box_2D]) (0.16.0)\n"
     ]
    }
   ],
   "source": [
    "!pip3 install Box2D\n",
    "!pip3 install box2d-py\n",
    "# !pip3 uninstall gym[all]\n",
    "!pip3 install gym[Box_2D]"
   ]
  },
  {
   "cell_type": "code",
   "execution_count": 4,
   "id": "2fc02625",
   "metadata": {
    "id": "2fc02625"
   },
   "outputs": [],
   "source": [
    "import numpy as np\n",
    "import matplotlib.pyplot as plt\n",
    "import torch\n",
    "import torch.nn as nn\n",
    "import torch.nn.functional as F\n",
    "from collections import namedtuple\n",
    "import random\n",
    "import gym"
   ]
  },
  {
   "cell_type": "code",
   "execution_count": 5,
   "id": "96ff5ca3",
   "metadata": {
    "id": "96ff5ca3"
   },
   "outputs": [],
   "source": [
    "env=gym.make('LunarLander-v2')\n",
    "state=env.reset()"
   ]
  },
  {
   "cell_type": "code",
   "execution_count": 6,
   "id": "1a756b34",
   "metadata": {
    "id": "1a756b34"
   },
   "outputs": [],
   "source": [
    "class Buffer():\n",
    "    def __init__(self, batch_size=128,buffer_size=5e4):\n",
    "        self.batch_size=batch_size\n",
    "        self.buffer=buffer_size\n",
    "        self.relay=[]\n",
    "        self.timestep=namedtuple('experience',field_names=('state','action','reward','next_state','done'))\n",
    "        self.count=0\n",
    "    \n",
    "    def append_timestep(self,state,action, reward,next_state,done):\n",
    "        tp=self.timestep(state,action, reward,next_state,done)\n",
    "        if self.count<self.buffer:\n",
    "            self.relay.append(tp)\n",
    "        else:\n",
    "            self.relay[int((self.count+1)%self.buffer)]=tp\n",
    "        self.count+=1\n",
    "            \n",
    "    def get_samples(self):\n",
    "        np.random.seed(42)\n",
    "        samples=random.sample(self.relay,self.batch_size)\n",
    "        states=torch.from_numpy(np.vstack([e.state for e in samples])).float().cuda()\n",
    "        actions=torch.from_numpy(np.vstack([e.action for e in samples])).long().cuda()\n",
    "        rewards=torch.from_numpy(np.vstack([e.reward for e in samples])).float().cuda()\n",
    "        next_states=torch.from_numpy(np.vstack([e.next_state for e in samples])).float().cuda()\n",
    "        dones=torch.from_numpy(np.vstack([e.done for e in samples]).astype(np.uint8)).long().cuda()\n",
    "        return states,actions, rewards,next_states,dones"
   ]
  },
  {
   "cell_type": "code",
   "execution_count": 11,
   "id": "e5469e45",
   "metadata": {
    "colab": {
     "base_uri": "https://localhost:8080/"
    },
    "id": "e5469e45",
    "outputId": "c9bc196f-4c27-4a67-d4d9-bd5660c0be8a"
   },
   "outputs": [
    {
     "name": "stdout",
     "output_type": "stream",
     "text": [
      "200\n"
     ]
    }
   ],
   "source": [
    "buffer_test=Buffer()\n",
    "for i in range(200):\n",
    "      action=env.action_space.sample()\n",
    "      next_state, reward, done, info=env.step(action)\n",
    "      buffer_test.append_timestep(state,action, reward,next_state,done)\n",
    "      next_state=state\n",
    "print(len(buffer_test.relay))\n"
   ]
  },
  {
   "cell_type": "code",
   "execution_count": 13,
   "id": "xXlQmss6kSU_",
   "metadata": {
    "id": "xXlQmss6kSU_"
   },
   "outputs": [],
   "source": [
    "del buffer_test"
   ]
  },
  {
   "cell_type": "code",
   "execution_count": 15,
   "id": "c28011f3",
   "metadata": {
    "colab": {
     "base_uri": "https://localhost:8080/"
    },
    "id": "c28011f3",
    "outputId": "c435f18c-f06a-409a-b45a-d2e12300a5fc"
   },
   "outputs": [
    {
     "name": "stdout",
     "output_type": "stream",
     "text": [
      "Shape of state torch.Size([128, 8])\n",
      "Shape of actions torch.Size([128, 1])\n",
      "Shape of rewards torch.Size([128, 1])\n",
      "Shape of next_state torch.Size([128, 8])\n",
      "Shape of dones torch.Size([128, 1])\n"
     ]
    }
   ],
   "source": [
    "print('Shape of state',states.shape)\n",
    "print('Shape of actions',action.shape)\n",
    "print('Shape of rewards',rewards.shape)\n",
    "print('Shape of next_state',next_states.shape)\n",
    "print('Shape of dones',dones.shape)"
   ]
  },
  {
   "cell_type": "code",
   "execution_count": 16,
   "id": "e35fd6ff",
   "metadata": {
    "id": "e35fd6ff"
   },
   "outputs": [],
   "source": [
    "class DDQN(nn.Module):\n",
    "    def __init__(self, input_size, hidden_layer1=800, hidden_layer2=200,out=4):\n",
    "        super().__init__()\n",
    "        self.lin1=nn.Linear(input_size,hidden_layer1)\n",
    "        self.lin2=nn.Linear(hidden_layer1,hidden_layer2)\n",
    "        self.lin3=nn.Linear(hidden_layer2,out)\n",
    "        \n",
    "        \n",
    "    def forward(self,X):\n",
    "        X=F.relu(self.lin1(X))\n",
    "        X=F.relu(self.lin2(X))\n",
    "        X=self.lin3(X)\n",
    "        return X"
   ]
  },
  {
   "cell_type": "code",
   "execution_count": 17,
   "id": "442cec90",
   "metadata": {
    "colab": {
     "base_uri": "https://localhost:8080/"
    },
    "id": "442cec90",
    "outputId": "922a5b08-f89b-44b3-998c-a804e0142bb6"
   },
   "outputs": [
    {
     "data": {
      "text/plain": [
       "torch.Size([128, 8])"
      ]
     },
     "execution_count": 17,
     "metadata": {},
     "output_type": "execute_result"
    }
   ],
   "source": [
    "states.shape"
   ]
  },
  {
   "cell_type": "code",
   "execution_count": 18,
   "id": "f536c782",
   "metadata": {
    "id": "f536c782"
   },
   "outputs": [],
   "source": [
    "torch.random.manual_seed(42)\n",
    "pred_DDQN=DDQN(input_size=states.shape[1]).cuda()\n",
    "target_DDQN=DDQN(input_size=states.shape[1]).cuda()\n",
    "optimizer=torch.optim.Adam(pred_DDQN.parameters(),lr=5e-4)\n",
    "criterion=nn.MSELoss()"
   ]
  },
  {
   "cell_type": "code",
   "execution_count": 19,
   "id": "8f68bf5e",
   "metadata": {
    "id": "8f68bf5e"
   },
   "outputs": [],
   "source": [
    "y_check=pred_DDQN.forward(states)\n",
    "x=pred_DDQN(states)\n",
    "# print(x.shape)\n",
    "# indices=torch.tensor(np.arange(0,64)).long()\n",
    "# print(indices.shape)\n",
    "# x.gather(0,indices.reshape(-1,1)).shape"
   ]
  },
  {
   "cell_type": "code",
   "execution_count": 20,
   "id": "f9fa1f51",
   "metadata": {
    "id": "f9fa1f51"
   },
   "outputs": [],
   "source": [
    "class Agent():\n",
    "    def __init__(self, buffer, pred_net, tgt_net,seed,reset,gamma=0.99, epsilon=1.0, decay=0.995,epsilon_min=0.01):\n",
    "        self.pred_net=pred_net\n",
    "        self.tgt_net=tgt_net\n",
    "        self.gamma=gamma\n",
    "        self.epsilon=epsilon\n",
    "        self.decay=decay\n",
    "        self.epsilon_min=epsilon_min\n",
    "        self.seed=seed\n",
    "        self.count=0\n",
    "        self.reset=reset\n",
    "        self.buffer=buffer\n",
    "        \n",
    "    def reset_epsilon(self):\n",
    "        self.epsilon=min(self.epsilon*self.decay,self.epsilon_min)\n",
    "    def get_action(self,env,state):\n",
    "        if random.random()>self.epsilon:\n",
    "            with torch.no_grad():\n",
    "                state=torch.Tensor(state).float().cuda()\n",
    "                action=torch.argmax(self.pred_net.forward(state)).item()\n",
    "        else:\n",
    "            action = env.action_space.sample()\n",
    "        return action\n",
    "    \n",
    "    def learn_agent(self):\n",
    "        states,actions, rewards,next_states,dones=self.buffer.get_samples()\n",
    "        check=self.pred_net(states)\n",
    "        y_pred=self.pred_net.forward(states).gather(1,actions)\n",
    "        pred_action=torch.argmax(self.pred_net(next_states),dim=1)\n",
    "        y_tgt=rewards+self.gamma*((self.tgt_net(next_states).gather(1,pred_action.reshape(-1,1)))*(1-dones).detach())\n",
    "        loss=criterion(y_pred,y_tgt)\n",
    "        optimizer.zero_grad()\n",
    "        loss.backward()\n",
    "        optimizer.step()\n",
    "        self.count+=1\n",
    "        return loss\n",
    "        \n",
    "    def refresh(self):\n",
    "        if self.count==self.reset:\n",
    "            for pred, targ in zip(self.pred_net.parameters(), self.tgt_net.parameters()):\n",
    "              targ.data.copy_(pred.data)\n",
    "            self.count=0"
   ]
  },
  {
   "cell_type": "code",
   "execution_count": 21,
   "id": "6424eb58",
   "metadata": {
    "id": "6424eb58"
   },
   "outputs": [],
   "source": [
    "buffer=Buffer()\n",
    "agent=Agent(buffer,pred_DDQN,target_DDQN,42,reset=500)"
   ]
  },
  {
   "cell_type": "code",
   "execution_count": 22,
   "id": "06ffe40b",
   "metadata": {
    "colab": {
     "base_uri": "https://localhost:8080/"
    },
    "id": "06ffe40b",
    "outputId": "ed91b597-e976-4061-ff97-a9ad6ab9b306"
   },
   "outputs": [
    {
     "name": "stdout",
     "output_type": "stream",
     "text": [
      "450\n"
     ]
    }
   ],
   "source": [
    "for i in range(5):\n",
    "    state=env.reset()\n",
    "    done=False\n",
    "    while not done:\n",
    "        action=env.action_space.sample()\n",
    "        next_state, reward, done,_ = env.step(action)\n",
    "        agent.buffer.append_timestep(state,action, reward,next_state,done)\n",
    "        state=next_state\n",
    "print(len(agent.buffer.relay))"
   ]
  },
  {
   "cell_type": "code",
   "execution_count": 23,
   "id": "4e8f5bc3",
   "metadata": {
    "id": "4e8f5bc3"
   },
   "outputs": [],
   "source": [
    "def run_experiment(env, agent, episode_count):\n",
    "    losses_episode=[]\n",
    "    rewards_episode=[]\n",
    "    best_avg_reward=-np.inf\n",
    "    for i in range(episode_count):\n",
    "        reward_episode=0\n",
    "        print('\\rEpisode {} '.format(i),end=\"\")\n",
    "        state=env.reset()\n",
    "        done=False\n",
    "        while not done:\n",
    "            action=agent.get_action(env,state)\n",
    "            next_state,reward,done,_=env.step(action)\n",
    "            reward_episode+=reward\n",
    "            agent.buffer.append_timestep(state,action, reward,next_state,done)\n",
    "            loss=agent.learn_agent()\n",
    "            state=next_state\n",
    "            agent.refresh()\n",
    "        if (i+1)%100==0:\n",
    "            avg_reward=np.mean(rewards_episode[-100:])\n",
    "            print('\\nAverage Reward for last 100 episodes:',avg_reward)\n",
    "            print(f'Loss for {i}th episode is:',loss.item())\n",
    "            print('\\n')\n",
    "            if avg_reward>200:\n",
    "                print(f'Threshold average crossed. Average reward:',avg_reward)\n",
    "                print('\\n')\n",
    "                torch.save(agent.pred_net.state_dict(), 'DDQN_large_pred_model_weights.pth')\n",
    "                torch.save(agent.tgt_net.state_dict(), 'DDQN_large_target_model_weights.pth')\n",
    "            if avg_reward > best_avg_reward:\n",
    "                best_avg_reward=avg_reward\n",
    "                if avg_reward>200:\n",
    "                    print('\\nPrevious average beaten. New average reward:', best_avg_reward)\n",
    "                    print('\\n')\n",
    "                    torch.save(agent.pred_net.state_dict(), 'DDQN_large_pred_best_model_weights.pth')\n",
    "                    torch.save(agent.tgt_net.state_dict(), 'DDQN_large_target_best_model_weights.pth')\n",
    "        agent.reset_epsilon()\n",
    "        losses_episode.append(loss.item())\n",
    "        rewards_episode.append(reward_episode)\n",
    "    return losses_episode, rewards_episode"
   ]
  },
  {
   "cell_type": "code",
   "execution_count": 24,
   "id": "f29ed728",
   "metadata": {
    "colab": {
     "base_uri": "https://localhost:8080/"
    },
    "id": "f29ed728",
    "outputId": "52c6bdc0-f6c9-4168-a4c1-d7ef4e46e57b"
   },
   "outputs": [
    {
     "name": "stdout",
     "output_type": "stream",
     "text": [
      "Episode 99 \n",
      "Average Reward for last 100 episodes: -38.84886167153311\n",
      "Loss for 99th episode is: 2.7154483795166016\n",
      "\n",
      "\n",
      "Episode 199 \n",
      "Average Reward for last 100 episodes: 98.72284861075642\n",
      "Loss for 199th episode is: 14.955883026123047\n",
      "\n",
      "\n",
      "Episode 299 \n",
      "Average Reward for last 100 episodes: 214.59441636141074\n",
      "Loss for 299th episode is: 2.0377445220947266\n",
      "\n",
      "\n",
      "Threshold average crossed. Average reward: 214.59441636141074\n",
      "\n",
      "\n",
      "\n",
      "Previous average beaten. New average reward: 214.59441636141074\n",
      "\n",
      "\n",
      "Episode 399 \n",
      "Average Reward for last 100 episodes: 251.05020513174728\n",
      "Loss for 399th episode is: 1.4028091430664062\n",
      "\n",
      "\n",
      "Threshold average crossed. Average reward: 251.05020513174728\n",
      "\n",
      "\n",
      "\n",
      "Previous average beaten. New average reward: 251.05020513174728\n",
      "\n",
      "\n",
      "Episode 499 \n",
      "Average Reward for last 100 episodes: 258.9997042139893\n",
      "Loss for 499th episode is: 4.0362467765808105\n",
      "\n",
      "\n",
      "Threshold average crossed. Average reward: 258.9997042139893\n",
      "\n",
      "\n",
      "\n",
      "Previous average beaten. New average reward: 258.9997042139893\n",
      "\n",
      "\n",
      "Episode 599 \n",
      "Average Reward for last 100 episodes: 256.48362455714994\n",
      "Loss for 599th episode is: 6.8765177726745605\n",
      "\n",
      "\n",
      "Threshold average crossed. Average reward: 256.48362455714994\n",
      "\n",
      "\n",
      "Episode 699 \n",
      "Average Reward for last 100 episodes: 260.2407838225083\n",
      "Loss for 699th episode is: 7.114625453948975\n",
      "\n",
      "\n",
      "Threshold average crossed. Average reward: 260.2407838225083\n",
      "\n",
      "\n",
      "\n",
      "Previous average beaten. New average reward: 260.2407838225083\n",
      "\n",
      "\n",
      "Episode 799 \n",
      "Average Reward for last 100 episodes: 251.86756056943096\n",
      "Loss for 799th episode is: 2.0554237365722656\n",
      "\n",
      "\n",
      "Threshold average crossed. Average reward: 251.86756056943096\n",
      "\n",
      "\n",
      "Episode 899 \n",
      "Average Reward for last 100 episodes: 253.932694901137\n",
      "Loss for 899th episode is: 5.4385223388671875\n",
      "\n",
      "\n",
      "Threshold average crossed. Average reward: 253.932694901137\n",
      "\n",
      "\n",
      "Episode 999 \n",
      "Average Reward for last 100 episodes: 277.02321100959887\n",
      "Loss for 999th episode is: 0.7130676507949829\n",
      "\n",
      "\n",
      "Threshold average crossed. Average reward: 277.02321100959887\n",
      "\n",
      "\n",
      "\n",
      "Previous average beaten. New average reward: 277.02321100959887\n",
      "\n",
      "\n",
      "Episode 1099 \n",
      "Average Reward for last 100 episodes: 253.5067592569007\n",
      "Loss for 1099th episode is: 1.9780521392822266\n",
      "\n",
      "\n",
      "Threshold average crossed. Average reward: 253.5067592569007\n",
      "\n",
      "\n",
      "Episode 1199 \n",
      "Average Reward for last 100 episodes: 136.1929233076841\n",
      "Loss for 1199th episode is: 49.32555389404297\n",
      "\n",
      "\n",
      "Episode 1299 \n",
      "Average Reward for last 100 episodes: 34.75226959658291\n",
      "Loss for 1299th episode is: 12.798851013183594\n",
      "\n",
      "\n",
      "Episode 1399 \n",
      "Average Reward for last 100 episodes: 208.33169305315954\n",
      "Loss for 1399th episode is: 7.696462631225586\n",
      "\n",
      "\n",
      "Threshold average crossed. Average reward: 208.33169305315954\n",
      "\n",
      "\n",
      "Episode 1499 \n",
      "Average Reward for last 100 episodes: 260.8670992421698\n",
      "Loss for 1499th episode is: 10.921289443969727\n",
      "\n",
      "\n",
      "Threshold average crossed. Average reward: 260.8670992421698\n",
      "\n",
      "\n",
      "Episode 1599 \n",
      "Average Reward for last 100 episodes: 255.34187402929464\n",
      "Loss for 1599th episode is: 5.53822660446167\n",
      "\n",
      "\n",
      "Threshold average crossed. Average reward: 255.34187402929464\n",
      "\n",
      "\n",
      "Episode 1699 \n",
      "Average Reward for last 100 episodes: 249.02808170316592\n",
      "Loss for 1699th episode is: 6.440598011016846\n",
      "\n",
      "\n",
      "Threshold average crossed. Average reward: 249.02808170316592\n",
      "\n",
      "\n",
      "Episode 1799 \n",
      "Average Reward for last 100 episodes: 221.04749358602146\n",
      "Loss for 1799th episode is: 5.196218967437744\n",
      "\n",
      "\n",
      "Threshold average crossed. Average reward: 221.04749358602146\n",
      "\n",
      "\n",
      "Episode 1899 \n",
      "Average Reward for last 100 episodes: 174.34981604934356\n",
      "Loss for 1899th episode is: 2.863358497619629\n",
      "\n",
      "\n",
      "Episode 1999 \n",
      "Average Reward for last 100 episodes: 207.9465376849451\n",
      "Loss for 1999th episode is: 7.371201992034912\n",
      "\n",
      "\n",
      "Threshold average crossed. Average reward: 207.9465376849451\n",
      "\n",
      "\n"
     ]
    }
   ],
   "source": [
    "final_losses,final_rewards=run_experiment(env, agent, episode_count=2000)"
   ]
  },
  {
   "cell_type": "code",
   "execution_count": 25,
   "id": "0UGtfpJK7re5",
   "metadata": {
    "id": "0UGtfpJK7re5"
   },
   "outputs": [],
   "source": [
    "np.save('DDQN_large_epside_rewards_large.txt',final_rewards)\n",
    "np.save('DDQN_large_episode_loss_large.txt',final_losses)"
   ]
  },
  {
   "cell_type": "code",
   "execution_count": 26,
   "id": "04bdb7b2",
   "metadata": {
    "colab": {
     "base_uri": "https://localhost:8080/",
     "height": 350
    },
    "id": "04bdb7b2",
    "outputId": "3cb556bf-8d9d-4950-e14a-f848d45cc558"
   },
   "outputs": [
    {
     "data": {
      "image/png": "[encoded data removed]",
      "text/plain": [
       "<Figure size 1080x360 with 1 Axes>"
      ]
     },
     "metadata": {
      "needs_background": "light"
     },
     "output_type": "display_data"
    }
   ],
   "source": [
    "plt.figure(figsize=(15,5))\n",
    "plt.plot(range(2000),final_rewards,color='#ff9c00')\n",
    "plt.axhline(y=200,linewidth=1,color='red')\n",
    "plt.xlabel('Episode number')\n",
    "plt.ylabel('Rewards for episode')\n",
    "plt.title('Rewards vs. Episode number')\n",
    "plt.show()"
   ]
  },
  {
   "cell_type": "code",
   "execution_count": 27,
   "id": "de7f5547",
   "metadata": {
    "colab": {
     "base_uri": "https://localhost:8080/",
     "height": 350
    },
    "id": "de7f5547",
    "outputId": "f211df40-bbea-43af-f31d-df8a0a10e9a7"
   },
   "outputs": [
    {
     "data": {
      "image/png": "[encoded data removed]",
      "text/plain": [
       "<Figure size 1080x360 with 1 Axes>"
      ]
     },
     "metadata": {
      "needs_background": "light"
     },
     "output_type": "display_data"
    }
   ],
   "source": [
    "plt.figure(figsize=(15,5))\n",
    "plt.plot(range(2000),final_losses,color='#afafaf')\n",
    "plt.xlabel('Episode number')\n",
    "plt.ylabel('Loss for episode')\n",
    "plt.title('Loss vs. Episode number')\n",
    "plt.show()"
   ]
  },
  {
   "cell_type": "code",
   "execution_count": 28,
   "id": "EPvoaWCP6srL",
   "metadata": {
    "colab": {
     "base_uri": "https://localhost:8080/",
     "height": 282
    },
    "id": "EPvoaWCP6srL",
    "outputId": "3d3a1d6b-f2c6-4c82-ace1-e3c7e35096b9"
   },
   "outputs": [
    {
     "data": {
      "text/plain": [
       "[<matplotlib.lines.Line2D at 0x7f1640040d10>]"
      ]
     },
     "execution_count": 28,
     "metadata": {},
     "output_type": "execute_result"
    },
    {
     "data": {
      "image/png": "[encoded data removed]",
      "text/plain": [
       "<Figure size 432x288 with 1 Axes>"
      ]
     },
     "metadata": {
      "needs_background": "light"
     },
     "output_type": "display_data"
    }
   ],
   "source": [
    "plt.plot(range(2000), final_rewards)"
   ]
  },
  {
   "cell_type": "code",
   "execution_count": 28,
   "id": "HWWzJBDz6vPi",
   "metadata": {
    "id": "HWWzJBDz6vPi"
   },
   "outputs": [],
   "source": []
  }
 ],
 "metadata": {
  "accelerator": "GPU",
  "colab": {
   "collapsed_sections": [],
   "machine_shape": "hm",
   "name": "Large_DDQN.ipynb",
   "provenance": []
  },
  "kernelspec": {
   "display_name": "Python 3",
   "language": "python",
   "name": "python3"
  },
  "language_info": {
   "codemirror_mode": {
    "name": "ipython",
    "version": 3
   },
   "file_extension": ".py",
   "mimetype": "text/x-python",
   "name": "python",
   "nbconvert_exporter": "python",
   "pygments_lexer": "ipython3",
   "version": "3.6.13"
  }
 },
 "nbformat": 4,
 "nbformat_minor": 5
}
