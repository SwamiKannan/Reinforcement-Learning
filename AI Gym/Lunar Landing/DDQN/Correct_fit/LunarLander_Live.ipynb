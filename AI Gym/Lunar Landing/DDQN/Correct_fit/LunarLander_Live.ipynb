{
 "cells": [
  {
   "cell_type": "code",
   "execution_count": 1,
   "id": "797b5fab",
   "metadata": {},
   "outputs": [],
   "source": [
    "%config Completer.use_jedi = False"
   ]
  },
  {
   "cell_type": "code",
   "execution_count": 2,
   "id": "e890dae1",
   "metadata": {},
   "outputs": [],
   "source": [
    "import gym\n",
    "from gym.wrappers import Monitor\n",
    "import numpy as np\n",
    "import torch\n",
    "import torch.nn as nn\n",
    "import torch.nn.functional as F\n",
    "import random\n",
    "from collections import defaultdict ,namedtuple"
   ]
  },
  {
   "cell_type": "code",
   "execution_count": 3,
   "id": "eb19016e",
   "metadata": {},
   "outputs": [],
   "source": [
    "from Buffer import Buffer\n",
    "from Agent import Agent\n",
    "from Model import DDQN"
   ]
  },
  {
   "cell_type": "code",
   "execution_count": 4,
   "id": "bfbd7054",
   "metadata": {},
   "outputs": [
    {
     "name": "stdout",
     "output_type": "stream",
     "text": [
      "State shape:  (8,)\n",
      "Number of actions:  4\n"
     ]
    },
    {
     "name": "stderr",
     "output_type": "stream",
     "text": [
      "e:\\anaconda\\envs\\drlnd\\lib\\site-packages\\gym\\wrappers\\monitor.py:32: UserWarning: The Monitor wrapper is being deprecated in favor of gym.wrappers.RecordVideo and gym.wrappers.RecordEpisodeStatistics (see https://github.com/openai/gym/issues/2297)\n",
      "  \"The Monitor wrapper is being deprecated in favor of gym.wrappers.RecordVideo and gym.wrappers.RecordEpisodeStatistics (see https://github.com/openai/gym/issues/2297)\"\n"
     ]
    }
   ],
   "source": [
    "env=Monitor(gym.make('LunarLander-v2'), './video', force=True)\n",
    "env.seed(0)\n",
    "print('State shape: ', env.observation_space.shape)\n",
    "print('Number of actions: ', env.action_space.n)"
   ]
  },
  {
   "cell_type": "markdown",
   "id": "3286de5c",
   "metadata": {},
   "source": [
    "#### Set up parameters"
   ]
  },
  {
   "cell_type": "code",
   "execution_count": 5,
   "id": "cec90001",
   "metadata": {},
   "outputs": [],
   "source": [
    "model=DDQN(env.observation_space.shape[0], hidden_layer1=800, hidden_layer2=200,out=4)\n",
    "rb=Buffer()"
   ]
  },
  {
   "cell_type": "code",
   "execution_count": 6,
   "id": "d1d4f9a9",
   "metadata": {},
   "outputs": [
    {
     "data": {
      "text/plain": [
       "<All keys matched successfully>"
      ]
     },
     "execution_count": 6,
     "metadata": {},
     "output_type": "execute_result"
    }
   ],
   "source": [
    "model.load_state_dict(torch.load('DDQN_large_pred_best_model_weights.pth'))"
   ]
  },
  {
   "cell_type": "code",
   "execution_count": 7,
   "id": "fc258462",
   "metadata": {},
   "outputs": [],
   "source": [
    "tgt_model=model=DDQN(env.observation_space.shape[0], hidden_layer1=64, hidden_layer2=64,out=4)"
   ]
  },
  {
   "cell_type": "code",
   "execution_count": 8,
   "id": "e78601db",
   "metadata": {},
   "outputs": [],
   "source": [
    "agent=Agent(rb, model, tgt_model,seed=0,reset=0) #Didn't think through train-test breakup properly so now have to add dummy values :)"
   ]
  },
  {
   "cell_type": "markdown",
   "id": "329ecc43",
   "metadata": {},
   "source": [
    "#### Run model"
   ]
  },
  {
   "cell_type": "code",
   "execution_count": null,
   "id": "3af95d69",
   "metadata": {},
   "outputs": [],
   "source": [
    "np.random.seed(42)\n",
    "rewards=0\n",
    "for i in range(5):\n",
    "    rewards=0\n",
    "    state = env.reset()\n",
    "    while True:\n",
    "        action = agent.get_action(env,state)\n",
    "        state, reward, done, _ = env.step(action)\n",
    "        rewards+=reward\n",
    "        env.render()\n",
    "        if done:\n",
    "            break\n",
    "env.close()"
   ]
  },
  {
   "cell_type": "code",
   "execution_count": null,
   "id": "bae5834b",
   "metadata": {},
   "outputs": [],
   "source": []
  },
  {
   "cell_type": "code",
   "execution_count": null,
   "id": "4208f5d2",
   "metadata": {},
   "outputs": [],
   "source": []
  }
 ],
 "metadata": {
  "kernelspec": {
   "display_name": "Python 3",
   "language": "python",
   "name": "python3"
  },
  "language_info": {
   "codemirror_mode": {
    "name": "ipython",
    "version": 3
   },
   "file_extension": ".py",
   "mimetype": "text/x-python",
   "name": "python",
   "nbconvert_exporter": "python",
   "pygments_lexer": "ipython3",
   "version": "3.6.13"
  }
 },
 "nbformat": 4,
 "nbformat_minor": 5
}
