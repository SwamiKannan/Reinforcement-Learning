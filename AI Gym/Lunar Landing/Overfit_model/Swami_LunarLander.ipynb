{
 "cells": [
  {
   "cell_type": "code",
   "execution_count": null,
   "id": "beadab88",
   "metadata": {
    "id": "beadab88"
   },
   "outputs": [],
   "source": [
    "# %config Completer.use_jedi = False"
   ]
  },
  {
   "cell_type": "code",
   "execution_count": null,
   "id": "qMpc8AAC2J0-",
   "metadata": {
    "colab": {
     "base_uri": "https://localhost:8080/"
    },
    "id": "qMpc8AAC2J0-",
    "outputId": "5fdb88a9-2251-4b8d-c7a1-178449d081e2"
   },
   "outputs": [
    {
     "name": "stdout",
     "output_type": "stream",
     "text": [
      "Mounted at /content/drive/\n"
     ]
    }
   ],
   "source": [
    "from google.colab import drive\n",
    "drive.mount('/content/drive/')\n",
    "import os\n",
    "os.chdir('/content/drive/MyDrive')"
   ]
  },
  {
   "cell_type": "code",
   "execution_count": null,
   "id": "BZxOGfsjQ731",
   "metadata": {
    "colab": {
     "base_uri": "https://localhost:8080/"
    },
    "id": "BZxOGfsjQ731",
    "outputId": "51a785ef-8a55-4858-cf65-594a27471b60"
   },
   "outputs": [
    {
     "name": "stdout",
     "output_type": "stream",
     "text": [
      "Sun Nov 14 11:46:07 2021       \n",
      "+-----------------------------------------------------------------------------+\n",
      "| NVIDIA-SMI 495.44       Driver Version: 460.32.03    CUDA Version: 11.2     |\n",
      "|-------------------------------+----------------------+----------------------+\n",
      "| GPU  Name        Persistence-M| Bus-Id        Disp.A | Volatile Uncorr. ECC |\n",
      "| Fan  Temp  Perf  Pwr:Usage/Cap|         Memory-Usage | GPU-Util  Compute M. |\n",
      "|                               |                      |               MIG M. |\n",
      "|===============================+======================+======================|\n",
      "|   0  Tesla P100-PCIE...  Off  | 00000000:00:04.0 Off |                    0 |\n",
      "| N/A   34C    P0    27W / 250W |      0MiB / 16280MiB |      0%      Default |\n",
      "|                               |                      |                  N/A |\n",
      "+-------------------------------+----------------------+----------------------+\n",
      "                                                                               \n",
      "+-----------------------------------------------------------------------------+\n",
      "| Processes:                                                                  |\n",
      "|  GPU   GI   CI        PID   Type   Process name                  GPU Memory |\n",
      "|        ID   ID                                                   Usage      |\n",
      "|=============================================================================|\n",
      "|  No running processes found                                                 |\n",
      "+-----------------------------------------------------------------------------+\n"
     ]
    }
   ],
   "source": [
    "gpu_info = !nvidia-smi\n",
    "gpu_info = '\\n'.join(gpu_info)\n",
    "if gpu_info.find('failed') >= 0:\n",
    "  print('Not connected to a GPU')\n",
    "else:\n",
    "  print(gpu_info)"
   ]
  },
  {
   "cell_type": "code",
   "execution_count": null,
   "id": "EBCvKy1kOlg6",
   "metadata": {
    "colab": {
     "base_uri": "https://localhost:8080/"
    },
    "id": "EBCvKy1kOlg6",
    "outputId": "4f661db8-9b06-4920-df9f-c20c8b73f412"
   },
   "outputs": [
    {
     "name": "stdout",
     "output_type": "stream",
     "text": [
      "Collecting Box2D\n",
      "  Downloading Box2D-2.3.10-cp37-cp37m-manylinux1_x86_64.whl (1.3 MB)\n",
      "\u001b[K     |████████████████████████████████| 1.3 MB 10.0 MB/s \n",
      "\u001b[?25hInstalling collected packages: Box2D\n",
      "Successfully installed Box2D-2.3.10\n",
      "Collecting box2d-py\n",
      "  Downloading box2d_py-2.3.8-cp37-cp37m-manylinux1_x86_64.whl (448 kB)\n",
      "\u001b[K     |████████████████████████████████| 448 kB 8.5 MB/s \n",
      "\u001b[?25hInstalling collected packages: box2d-py\n",
      "Successfully installed box2d-py-2.3.8\n",
      "Requirement already satisfied: gym[Box_2D] in /usr/local/lib/python3.7/dist-packages (0.17.3)\n",
      "\u001b[33mWARNING: gym 0.17.3 does not provide the extra 'box_2d'\u001b[0m\n",
      "Requirement already satisfied: scipy in /usr/local/lib/python3.7/dist-packages (from gym[Box_2D]) (1.4.1)\n",
      "Requirement already satisfied: numpy>=1.10.4 in /usr/local/lib/python3.7/dist-packages (from gym[Box_2D]) (1.19.5)\n",
      "Requirement already satisfied: pyglet<=1.5.0,>=1.4.0 in /usr/local/lib/python3.7/dist-packages (from gym[Box_2D]) (1.5.0)\n",
      "Requirement already satisfied: cloudpickle<1.7.0,>=1.2.0 in /usr/local/lib/python3.7/dist-packages (from gym[Box_2D]) (1.3.0)\n",
      "Requirement already satisfied: future in /usr/local/lib/python3.7/dist-packages (from pyglet<=1.5.0,>=1.4.0->gym[Box_2D]) (0.16.0)\n"
     ]
    }
   ],
   "source": [
    "!pip3 install Box2D\n",
    "!pip3 install box2d-py\n",
    "# !pip3 uninstall gym[all]\n",
    "!pip3 install gym[Box_2D]\n"
   ]
  },
  {
   "cell_type": "code",
   "execution_count": null,
   "id": "d24a450c",
   "metadata": {
    "id": "d24a450c"
   },
   "outputs": [],
   "source": [
    "import gym\n",
    "import numpy as np\n",
    "import torch\n",
    "import torch.nn as nn\n",
    "import torch.nn.functional as F\n",
    "import random\n",
    "from collections import defaultdict ,namedtuple"
   ]
  },
  {
   "cell_type": "code",
   "execution_count": null,
   "id": "ea0a661c",
   "metadata": {
    "colab": {
     "base_uri": "https://localhost:8080/"
    },
    "id": "ea0a661c",
    "outputId": "7e82f998-7a4d-46e9-e95f-2c6ecb827794"
   },
   "outputs": [
    {
     "name": "stdout",
     "output_type": "stream",
     "text": [
      "True\n",
      "Tesla P100-PCIE-16GB\n"
     ]
    }
   ],
   "source": [
    "print(torch.cuda.is_available())\n",
    "print(torch.cuda.get_device_name(torch.cuda.current_device))\n"
   ]
  },
  {
   "cell_type": "code",
   "execution_count": null,
   "id": "hZ3xQE0Numaf",
   "metadata": {
    "id": "hZ3xQE0Numaf"
   },
   "outputs": [],
   "source": [
    "import time"
   ]
  },
  {
   "cell_type": "code",
   "execution_count": null,
   "id": "465866c0",
   "metadata": {
    "colab": {
     "base_uri": "https://localhost:8080/"
    },
    "id": "465866c0",
    "outputId": "b4794168-b21a-4435-af96-48ce1bf7be99"
   },
   "outputs": [
    {
     "name": "stdout",
     "output_type": "stream",
     "text": [
      "Environment shape: (8,)\n",
      "Action space shape: 4\n",
      "Initial random state: [-5.9156417e-04  1.4134574e+00 -5.9935719e-02  1.1277095e-01\n",
      "  6.9228926e-04  1.3576316e-02  0.0000000e+00  0.0000000e+00]\n"
     ]
    }
   ],
   "source": [
    "env = gym.make('LunarLander-v2')\n",
    "env.seed(0)\n",
    "print('Environment shape:',env.observation_space.shape)\n",
    "print('Action space shape:',env.action_space.n)\n",
    "state=env.reset()\n",
    "print('Initial random state:',state)\n",
    "state_space=env.observation_space.shape\n",
    "action_space=env.action_space.n"
   ]
  },
  {
   "cell_type": "markdown",
   "id": "12aefc5a",
   "metadata": {
    "id": "12aefc5a"
   },
   "source": [
    "#### The state space is as follows:<br>\n",
    "<ul>\n",
    "<li>pos.x - x-coordinate of the lander # raw input. This variable is transformed during the state creation</li>\n",
    "<li>pos.y - y-coordinate of the lander # raw input. This variable is transformed during the state creation</li>\n",
    "<li>vel.x - velocity of lander along x axis # raw input. This variable is transformed during the state creation</li>\n",
    "<li>vel.y - velocity of lander along y axis # raw input. This variable is transformed during the state creation</li>\n",
    "<li>self.lander.angle - angle of the lander # raw input. This variable is transformed during the state creation</li>\n",
    "<li>self.lander.angularVelocity - angular velocity of the lander # raw input. This variable is transformed during the state creation</li>\n",
    "<li>self.legs[0].ground_contact - if leg 0 of the lander is in contact with the ground # raw input. This variable is transformed during the state creation</li>\n",
    "<li>self.legs[1].ground_contact - if leg 1 of the lander is in contact with the ground # raw input. This variable is transformed during the state creation</li>\n",
    "</ul>"
   ]
  },
  {
   "cell_type": "markdown",
   "id": "d0c40773",
   "metadata": {
    "id": "d0c40773"
   },
   "source": [
    "#### The action space is as follows:\n",
    "[Don't fire engines, fire left engine, main engine, right engine]\n"
   ]
  },
  {
   "cell_type": "code",
   "execution_count": null,
   "id": "f23459ab",
   "metadata": {
    "id": "f23459ab"
   },
   "outputs": [],
   "source": [
    "class DNN(nn.Module):\n",
    "    def __init__(self,input_size, output_size,hidden_size1=64, hidden_size2=64):\n",
    "        super().__init__()\n",
    "        self.Lin1=nn.Linear(input_size,hidden_size1)\n",
    "        self.Lin2=nn.Linear(hidden_size1,hidden_size2)\n",
    "        self.Lin3=nn.Linear(hidden_size2,output_size)\n",
    "        \n",
    "    def forward(self,X):\n",
    "        X=F.relu(self.Lin1(X))\n",
    "        X=F.relu(self.Lin2(X))\n",
    "        X=self.Lin3(X)\n",
    "        return X"
   ]
  },
  {
   "cell_type": "code",
   "execution_count": null,
   "id": "6d005bdf",
   "metadata": {
    "id": "6d005bdf"
   },
   "outputs": [],
   "source": [
    "class ReplayBuffer():\n",
    "    def __init__(self,batch_size=64,size=int(1e4)):\n",
    "        self.buffer_size=size\n",
    "        self.batch_size=batch_size\n",
    "        self.buffer=[]\n",
    "        self.step=namedtuple('step',field_names=['state', 'action', 'reward', 'next_state', 'done']) #from https://stackoverflow.com/a/43404344 to reduce memory size\n",
    "        self.states=[]\n",
    "        self.actions=[]\n",
    "        self.rewards=[]\n",
    "        self.next_states=[]\n",
    "        self.terminal=0\n",
    "        self.counter=0 #count total number of items in the buffer\n",
    "    \n",
    "    def add_item(self, state, action, reward,next_state,done):\n",
    "        st=self.step(state,action,reward,next_state, done)\n",
    "        if self.counter<self.buffer_size:\n",
    "            self.buffer.append(st)\n",
    "        else:\n",
    "            i=(self.counter+1)%self.buffer_size\n",
    "            self.buffer[i]=st\n",
    "        self.counter+=1\n",
    "\n",
    "    def sample(self):\n",
    "        np.random.seed(42)\n",
    "        if len(self.buffer)<self.batch_size:\n",
    "            print(f'Still needs to be populated: {len(self.buffer)} populated out of {self.batch_size}: {len(self.buffer)*100/self.batch_size}% complete')\n",
    "        else:\n",
    "            sample_idx=random.sample(self.buffer,self.batch_size)\n",
    "            states_=torch.from_numpy(np.vstack([e.state for e in sample_idx if e is not None])).float().cuda()\n",
    "            actions_=torch.from_numpy(np.vstack([e.action for e in sample_idx if e is not None])).long().cuda()\n",
    "            rewards_=torch.from_numpy(np.vstack([e.reward for e in sample_idx if e is not None])).float().cuda()\n",
    "            next_states_=torch.from_numpy(np.vstack([e.next_state for e in sample_idx if e is not None])).float().cuda()\n",
    "            dones_=torch.from_numpy(np.vstack([e.done for e in sample_idx if e is not None]).astype(np.uint8)).float().squeeze().cuda()\n",
    "        return (states_, actions_, rewards_, next_states_,dones_)     \n",
    "      # Things that completely changed the speed:\n",
    "      # 1. Changing actions from float to long:\n",
    "      # 2. Changing index selection in random.sample() to object selection\n",
    "      # 3. Trying to avoid a for loop in sample() destroyed my performance as I tried to convert to a numpy array to use range slicing\n",
    "      # 4. Detach() the result tensor from the gradient"
   ]
  },
  {
   "cell_type": "code",
   "execution_count": null,
   "id": "53a0966e",
   "metadata": {
    "id": "53a0966e"
   },
   "outputs": [],
   "source": [
    "torch.random.manual_seed(42)\n",
    "pred_model=DNN(state_space[0],action_space).cuda()\n",
    "target_model=DNN(state_space[0],action_space).cuda()\n",
    "# print(next(pred_model.parameters())\n",
    "# print(next(target_model.parameters())"
   ]
  },
  {
   "cell_type": "code",
   "execution_count": null,
   "id": "Iubmqq2Gzvjh",
   "metadata": {
    "id": "Iubmqq2Gzvjh"
   },
   "outputs": [],
   "source": [
    "# pred_model.load_state_dict(torch.load('pred_model_weights.pth'))\n",
    "# target_model.load_state_dict(torch.load('target_model_weights.pth'))"
   ]
  },
  {
   "cell_type": "code",
   "execution_count": null,
   "id": "9d5c709c",
   "metadata": {
    "id": "9d5c709c"
   },
   "outputs": [],
   "source": [
    "# for i, param in enumerate(pred_model.parameters()):\n",
    "#     print(i,'\\t',param.data)\n",
    "#     print('next')"
   ]
  },
  {
   "cell_type": "code",
   "execution_count": null,
   "id": "28ddcdf5",
   "metadata": {
    "id": "28ddcdf5"
   },
   "outputs": [],
   "source": [
    "criterion = nn.MSELoss()\n",
    "optimizer=torch.optim.Adam(pred_model.parameters(),lr=5e-4)"
   ]
  },
  {
   "cell_type": "code",
   "execution_count": null,
   "id": "5cfc861b",
   "metadata": {
    "id": "5cfc861b"
   },
   "outputs": [],
   "source": [
    "class DQNAgent():\n",
    "    def __init__(self,env,buffer,dnn_pred,dnn_target,gamma=0.99,replace=500,epsilon=1):\n",
    "        self.buffer=buffer\n",
    "        self.pred_net=dnn_pred\n",
    "        self.target_net=dnn_target\n",
    "        self.replace_count=replace\n",
    "        self.epsilon=epsilon\n",
    "        self.gamma=gamma\n",
    "        self.losses=[]\n",
    "        \n",
    "    def choose_action(self,state):\n",
    "        if random.random()>self.epsilon:\n",
    "            with torch.no_grad():\n",
    "                state=torch.FloatTensor(state).cuda()\n",
    "                action=torch.argmax(self.target_net.forward(state)).item()\n",
    "        else:\n",
    "            action=env.action_space.sample()\n",
    "        return action\n",
    "        \n",
    "    def step(self):\n",
    "        states, actions, rewards, next_states,dones=self.buffer.sample()\n",
    "        dones=dones.reshape(-1,1)\n",
    "        acts = actions.squeeze().type(torch.int64).view(-1,1).cuda()#Get updates from buffer\n",
    "        preds=self.pred_net.forward(states).squeeze().gather(-1,acts)\n",
    "        #Forward pass to get predicted values for the training network ---- (1)\n",
    "        target_q=torch.max(self.target_net.forward(next_states.float()),dim=1)[0].reshape(-1,1) #get max(Q(next_states)) for the target_q as the reference values\n",
    "        targets=rewards+(self.gamma*target_q*(1-dones[0])).detach() # get TD update for max(Q[next_state]) 1-dones implies there should no q(next_state) or q_next state for terminal state=0 ---- (2)\n",
    "        loss=criterion(preds,targets.view(-1,1))#Calculate MSE loss between (2) and (1)\n",
    "        optimizer.zero_grad() #Initiate backpropogation\n",
    "        loss.backward()  #Get backpropogation gradients\n",
    "        optimizer.step() #Update weights\n",
    "        return loss\n",
    "    \n",
    "    def update_target_weights(self):\n",
    "        for pred, targ in zip(self.pred_net.parameters(), self.target_net.parameters()):\n",
    "            targ.data.copy_(pred.data)"
   ]
  },
  {
   "cell_type": "code",
   "execution_count": null,
   "id": "75161019",
   "metadata": {
    "id": "75161019"
   },
   "outputs": [],
   "source": [
    "import time"
   ]
  },
  {
   "cell_type": "code",
   "execution_count": null,
   "id": "51abe039",
   "metadata": {
    "id": "51abe039"
   },
   "outputs": [],
   "source": [
    "# def run_episodes(agent,env,episode_count, epsilon_decay, epsilon_min): #need to reset the value as well\n",
    "#     episode_rewards=[]\n",
    "#     episode_loss=[]\n",
    "#     times=[]\n",
    "#     for epi in range(episode_count):## Introduce all resetting of parameters of epsilon here\n",
    "#         start=time.time()\n",
    "#         done=False\n",
    "#         counter_change=0\n",
    "#         state=env.reset()\n",
    "#         agent.epsilon=max(agent.epsilon*epsilon_decay, epsilon_min)\n",
    "#         init_reward=0\n",
    "#         step=0\n",
    "#         while not done:\n",
    "#             action=agent.choose_action(state)\n",
    "#             next_state,reward,done,info=env.step(action)\n",
    "#             init_reward+=reward\n",
    "#             agent.buffer.add_item(state, action, reward, next_state,done)\n",
    "#             loss=agent.step()\n",
    "#             counter_change+=1\n",
    "#             if counter_change%agent.replace_count==0:\n",
    "#                 agent.update_target_weights()\n",
    "#             state=next_state\n",
    "#             agent.terminal=next_state\n",
    "#             step+=1\n",
    "#         agent.terminal=next_state\n",
    "#         end=time.time()\n",
    "#         dur=end-start\n",
    "#         if (epi+1)%100==0:\n",
    "#             print(f'Loss for episode:{epi}: {loss}')\n",
    "#             print(f'Duration for episode for {epi}:',dur)\n",
    "#             print(f'No. of steps for {epi}:',step)\n",
    "#             print(f'Rewards for {epi}:', np.mean(episode_rewards[-100:]))\n",
    "#             print(f'Replay buffer length for {epi}:',len(agent.buffer.buffer))\n",
    "#         times.append(dur)\n",
    "#         episode_loss.append(loss)\n",
    "#         episode_rewards.append(init_reward)\n",
    "#     return episode_loss, episode_rewards , times"
   ]
  },
  {
   "cell_type": "code",
   "execution_count": null,
   "id": "573d0d55",
   "metadata": {
    "id": "573d0d55"
   },
   "outputs": [],
   "source": [
    "# losses,rewards, dur=run_episodes(agent,env,2000, 0.995, 0.01)"
   ]
  },
  {
   "cell_type": "code",
   "execution_count": null,
   "id": "3cee0757",
   "metadata": {
    "id": "3cee0757"
   },
   "outputs": [],
   "source": [
    "def initiate_buffer(env,agent,episode_length=2): #Run a few episodes just to populate the buffer\n",
    "    for epi in range(episode_length):          \n",
    "        state = env.reset()\n",
    "        action=env.action_space.sample()\n",
    "        done=False\n",
    "        while not done:\n",
    "            next_state, rewards, done, info = env.step(action)\n",
    "            agent.buffer.add_item(state, action, rewards, next_state,done)\n",
    "    print(len(agent.buffer.buffer))"
   ]
  },
  {
   "cell_type": "code",
   "execution_count": null,
   "id": "0e38e8ff",
   "metadata": {
    "id": "0e38e8ff"
   },
   "outputs": [],
   "source": [
    "rep_buffer=ReplayBuffer()\n",
    "agent=DQNAgent(env,rep_buffer,pred_model,target_model)"
   ]
  },
  {
   "cell_type": "code",
   "execution_count": null,
   "id": "e85ad85d",
   "metadata": {
    "colab": {
     "base_uri": "https://localhost:8080/"
    },
    "id": "e85ad85d",
    "outputId": "6b1b5b85-ad1b-4c65-fc76-29d8a692536c"
   },
   "outputs": [
    {
     "name": "stdout",
     "output_type": "stream",
     "text": [
      "114\n"
     ]
    }
   ],
   "source": [
    "initiate_buffer(env,agent)"
   ]
  },
  {
   "cell_type": "code",
   "execution_count": null,
   "id": "gDeKa85leGwr",
   "metadata": {
    "id": "gDeKa85leGwr"
   },
   "outputs": [],
   "source": [
    "import time"
   ]
  },
  {
   "cell_type": "code",
   "execution_count": null,
   "id": "b80f60b5",
   "metadata": {
    "colab": {
     "base_uri": "https://localhost:8080/"
    },
    "id": "b80f60b5",
    "outputId": "eb030636-0457-48e6-cae1-f4c2350de558"
   },
   "outputs": [
    {
     "name": "stdout",
     "output_type": "stream",
     "text": [
      "Episode 100\n",
      "\n",
      "Loss for episode 100: 6.580921173095703\n",
      "Duration for episode for 100: 0.28490614891052246\n",
      "No. of steps for 100: 108\n",
      "Rewards for 100: -125.25272074135495\n",
      "Replay buffer length for 100: 10000\n",
      "\n",
      "\n",
      "Episode 200\n",
      "\n",
      "Loss for episode 200: 5.271227836608887\n",
      "Duration for episode for 200: 3.6725549697875977\n",
      "No. of steps for 200: 1000\n",
      "Rewards for 200: -136.97081708774323\n",
      "Replay buffer length for 200: 10000\n",
      "\n",
      "\n",
      "Episode 300\n",
      "\n",
      "Loss for episode 300: 156.59927368164062\n",
      "Duration for episode for 300: 3.3773155212402344\n",
      "No. of steps for 300: 1000\n",
      "Rewards for 300: 19.600287705541582\n",
      "Replay buffer length for 300: 10000\n",
      "\n",
      "\n",
      "Episode 400\n",
      "\n",
      "Loss for episode 400: 5.5104875564575195\n",
      "Duration for episode for 400: 0.5840847492218018\n",
      "No. of steps for 400: 211\n",
      "Rewards for 400: 69.15643048433246\n",
      "Replay buffer length for 400: 10000\n",
      "\n",
      "\n",
      "Episode 500\n",
      "\n",
      "Loss for episode 500: 9.095478057861328\n",
      "Duration for episode for 500: 1.219491720199585\n",
      "No. of steps for 500: 390\n",
      "Rewards for 500: 169.61806513917875\n",
      "Replay buffer length for 500: 10000\n",
      "\n",
      "\n",
      "Episode 600\n",
      "\n",
      "Loss for episode 600: 5.485568046569824\n",
      "Duration for episode for 600: 0.8018641471862793\n",
      "No. of steps for 600: 269\n",
      "Rewards for 600: 185.49407692004755\n",
      "Replay buffer length for 600: 10000\n",
      "\n",
      "\n",
      "Episode 700\n",
      "\n",
      "Loss for episode 700: 197.8535614013672\n",
      "Duration for episode for 700: 0.5047707557678223\n",
      "No. of steps for 700: 177\n",
      "Rewards for 700: 206.5987230355723\n",
      "Replay buffer length for 700: 10000\n",
      "\n",
      "\n",
      "Accomplished new average reward of 206.5987230355723\n",
      "\n",
      "\n",
      "Episode 800\n",
      "\n",
      "Loss for episode 800: 1.4815877676010132\n",
      "Duration for episode for 800: 0.6579666137695312\n",
      "No. of steps for 800: 227\n",
      "Rewards for 800: 245.58092170686726\n",
      "Replay buffer length for 800: 10000\n",
      "\n",
      "\n",
      "Accomplished new average reward of 245.58092170686726\n",
      "\n",
      "\n",
      "Episode 900\n",
      "\n",
      "Loss for episode 900: 6.678162574768066\n",
      "Duration for episode for 900: 0.5967090129852295\n",
      "No. of steps for 900: 211\n",
      "Rewards for 900: 191.7593038218981\n",
      "Replay buffer length for 900: 10000\n",
      "\n",
      "\n",
      "Episode 1000\n",
      "\n",
      "Loss for episode 1000: 154.9654998779297\n",
      "Duration for episode for 1000: 0.8041360378265381\n",
      "No. of steps for 1000: 274\n",
      "Rewards for 1000: 174.38844527069926\n",
      "Replay buffer length for 1000: 10000\n",
      "\n",
      "\n",
      "Episode 1100\n",
      "\n",
      "Loss for episode 1100: 2.725041627883911\n",
      "Duration for episode for 1100: 3.7169275283813477\n",
      "No. of steps for 1100: 1000\n",
      "Rewards for 1100: 218.02621853618774\n",
      "Replay buffer length for 1100: 10000\n",
      "\n",
      "\n",
      "Accomplished new average reward of 245.58092170686726\n",
      "\n",
      "\n",
      "Episode 1200\n",
      "\n",
      "Loss for episode 1200: 24.16641616821289\n",
      "Duration for episode for 1200: 0.7612400054931641\n",
      "No. of steps for 1200: 247\n",
      "Rewards for 1200: 222.83601701617994\n",
      "Replay buffer length for 1200: 10000\n",
      "\n",
      "\n",
      "Accomplished new average reward of 245.58092170686726\n",
      "\n",
      "\n",
      "Episode 1300\n",
      "\n",
      "Loss for episode 1300: 3.7309281826019287\n",
      "Duration for episode for 1300: 0.7307453155517578\n",
      "No. of steps for 1300: 246\n",
      "Rewards for 1300: 208.32288325555365\n",
      "Replay buffer length for 1300: 10000\n",
      "\n",
      "\n",
      "Accomplished new average reward of 245.58092170686726\n",
      "\n",
      "\n",
      "Episode 1400\n",
      "\n",
      "Loss for episode 1400: 4.017783164978027\n",
      "Duration for episode for 1400: 0.679631233215332\n",
      "No. of steps for 1400: 230\n",
      "Rewards for 1400: 228.48789881946064\n",
      "Replay buffer length for 1400: 10000\n",
      "\n",
      "\n",
      "Accomplished new average reward of 245.58092170686726\n",
      "\n",
      "\n",
      "Episode 1500\n",
      "\n",
      "Loss for episode 1500: 3.4592676162719727\n",
      "Duration for episode for 1500: 0.40375757217407227\n",
      "No. of steps for 1500: 143\n",
      "Rewards for 1500: 210.36238890453177\n",
      "Replay buffer length for 1500: 10000\n",
      "\n",
      "\n",
      "Accomplished new average reward of 245.58092170686726\n",
      "\n",
      "\n",
      "Episode 1600\n",
      "\n",
      "Loss for episode 1600: 165.03973388671875\n",
      "Duration for episode for 1600: 0.6186800003051758\n",
      "No. of steps for 1600: 209\n",
      "Rewards for 1600: 230.8762035103737\n",
      "Replay buffer length for 1600: 10000\n",
      "\n",
      "\n",
      "Accomplished new average reward of 245.58092170686726\n",
      "\n",
      "\n",
      "Episode 1700\n",
      "\n",
      "Loss for episode 1700: 2.891796588897705\n",
      "Duration for episode for 1700: 0.500697135925293\n",
      "No. of steps for 1700: 179\n",
      "Rewards for 1700: 218.44940129507788\n",
      "Replay buffer length for 1700: 10000\n",
      "\n",
      "\n",
      "Accomplished new average reward of 245.58092170686726\n",
      "\n",
      "\n",
      "Episode 1800\n",
      "\n",
      "Loss for episode 1800: 25.98602294921875\n",
      "Duration for episode for 1800: 0.3219642639160156\n",
      "No. of steps for 1800: 112\n",
      "Rewards for 1800: 244.02377998847118\n",
      "Replay buffer length for 1800: 10000\n",
      "\n",
      "\n",
      "Accomplished new average reward of 245.58092170686726\n",
      "\n",
      "\n",
      "Episode 1900\n",
      "\n",
      "Loss for episode 1900: 159.0295867919922\n",
      "Duration for episode for 1900: 0.49333715438842773\n",
      "No. of steps for 1900: 174\n",
      "Rewards for 1900: 154.62377021032756\n",
      "Replay buffer length for 1900: 10000\n",
      "\n",
      "\n",
      "Episode 2000\n",
      "\n",
      "Loss for episode 2000: 155.92979431152344\n",
      "Duration for episode for 2000: 4.244159460067749\n",
      "No. of steps for 2000: 1000\n",
      "Rewards for 2000: 185.40910459246095\n",
      "Replay buffer length for 2000: 10000\n",
      "\n",
      "\n"
     ]
    }
   ],
   "source": [
    "episode_rewards=[]\n",
    "episode_loss=[]\n",
    "times=[]\n",
    "episode_count=2000\n",
    "counter_change=0\n",
    "best_avg_reward=-np.inf\n",
    "agent.epsilon=.9995\n",
    "for epi in range(episode_count):## Introduce all resetting of parameters of epsilon here\n",
    "    print('\\rEpisode {}'.format(epi+1), end=\"\")\n",
    "    start=time.time()\n",
    "    done=False\n",
    "    state=env.reset()\n",
    "    agent.epsilon=max(agent.epsilon*0.995,0.01)\n",
    "    init_reward=0\n",
    "    step=0\n",
    "    while not done:\n",
    "        action=agent.choose_action(state)\n",
    "        next_state,reward,done,info=env.step(action)\n",
    "        init_reward+=reward\n",
    "        agent.buffer.add_item(state, action, reward, next_state,done)\n",
    "        loss=agent.step()\n",
    "        counter_change+=1\n",
    "        if counter_change%agent.replace_count==0:\n",
    "            agent.update_target_weights()\n",
    "        state=next_state\n",
    "        agent.terminal=next_state\n",
    "        step+=1\n",
    "    agent.terminal=next_state\n",
    "    end=time.time()\n",
    "    dur=end-start\n",
    "    \n",
    "    if (epi+1)%100==0:\n",
    "        print(f'\\n\\nLoss for episode {epi+1}: {loss}')\n",
    "        print(f'Duration for episode for {epi+1}:',dur)\n",
    "        print(f'No. of steps for {epi+1}:',step)\n",
    "        avg_rewards=np.mean(episode_rewards[-100:])\n",
    "        print(f'Rewards for {epi+1}:', avg_rewards)\n",
    "        print(f'Replay buffer length for {epi+1}:',len(agent.buffer.buffer))\n",
    "        print('\\n')\n",
    "        if avg_rewards>best_avg_reward:\n",
    "          best_avg_reward=avg_rewards\n",
    "          torch.save(agent.pred_net.state_dict(), 'pred_model_weights.pth')\n",
    "          torch.save(agent.target_net.state_dict(), 'target_model_weights.pth')\n",
    "        if avg_rewards>200:\n",
    "            print(f'Accomplished new average reward of {best_avg_reward}')\n",
    "            print('\\n')   \n",
    "    times.append(dur)\n",
    "    episode_loss.append(loss)\n",
    "    episode_rewards.append(init_reward) "
   ]
  },
  {
   "cell_type": "code",
   "execution_count": null,
   "id": "27681076",
   "metadata": {
    "id": "27681076"
   },
   "outputs": [],
   "source": [
    "import matplotlib.pyplot as plt"
   ]
  },
  {
   "cell_type": "code",
   "execution_count": null,
   "id": "1619d9be",
   "metadata": {
    "colab": {
     "base_uri": "https://localhost:8080/",
     "height": 282
    },
    "id": "1619d9be",
    "outputId": "bcb6635f-e8c3-43be-e2fd-3a3131e31378"
   },
   "outputs": [
    {
     "data": {
      "text/plain": [
       "[<matplotlib.lines.Line2D at 0x7f2171689cd0>]"
      ]
     },
     "execution_count": 26,
     "metadata": {},
     "output_type": "execute_result"
    },
    {
     "data": {
      "image/png": "[encoded data removed]",
      "text/plain": [
       "<Figure size 432x288 with 1 Axes>"
      ]
     },
     "metadata": {
      "needs_background": "light"
     },
     "output_type": "display_data"
    }
   ],
   "source": [
    "plt.plot(range(episode_count),episode_rewards)"
   ]
  },
  {
   "cell_type": "code",
   "execution_count": null,
   "id": "eeb2d43d",
   "metadata": {
    "colab": {
     "base_uri": "https://localhost:8080/",
     "height": 282
    },
    "id": "eeb2d43d",
    "outputId": "e7980eb0-d981-480d-be08-4fe51fc1470a"
   },
   "outputs": [
    {
     "data": {
      "text/plain": [
       "[<matplotlib.lines.Line2D at 0x7f2171606a50>]"
      ]
     },
     "execution_count": 27,
     "metadata": {},
     "output_type": "execute_result"
    },
    {
     "data": {
      "image/png": "[encoded data removed]",
      "text/plain": [
       "<Figure size 432x288 with 1 Axes>"
      ]
     },
     "metadata": {
      "needs_background": "light"
     },
     "output_type": "display_data"
    }
   ],
   "source": [
    "plt.plot(range(episode_count),episode_loss)"
   ]
  },
  {
   "cell_type": "code",
   "execution_count": null,
   "id": "d0e879fe",
   "metadata": {
    "colab": {
     "base_uri": "https://localhost:8080/",
     "height": 282
    },
    "id": "d0e879fe",
    "outputId": "75cd684f-1d04-4cac-fcc3-4ae1fb1f9c58"
   },
   "outputs": [
    {
     "data": {
      "text/plain": [
       "[<matplotlib.lines.Line2D at 0x7f21715827d0>]"
      ]
     },
     "execution_count": 28,
     "metadata": {},
     "output_type": "execute_result"
    },
    {
     "data": {
      "image/png": "[encoded data removed]",
      "text/plain": [
       "<Figure size 432x288 with 1 Axes>"
      ]
     },
     "metadata": {
      "needs_background": "light"
     },
     "output_type": "display_data"
    }
   ],
   "source": [
    "plt.plot(range(episode_count),times)"
   ]
  }
 ],
 "metadata": {
  "accelerator": "GPU",
  "colab": {
   "collapsed_sections": [],
   "name": "Swami_LunarLander.ipynb",
   "provenance": []
  },
  "kernelspec": {
   "display_name": "Python 3",
   "language": "python",
   "name": "python3"
  },
  "language_info": {
   "codemirror_mode": {
    "name": "ipython",
    "version": 3
   },
   "file_extension": ".py",
   "mimetype": "text/x-python",
   "name": "python",
   "nbconvert_exporter": "python",
   "pygments_lexer": "ipython3",
   "version": "3.6.13"
  }
 },
 "nbformat": 4,
 "nbformat_minor": 5
}
