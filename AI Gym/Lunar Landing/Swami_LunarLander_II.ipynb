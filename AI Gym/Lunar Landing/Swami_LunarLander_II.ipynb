{
  "nbformat": 4,
  "nbformat_minor": 5,
  "metadata": {
    "accelerator": "GPU",
    "colab": {
      "name": "Swami_LunarLander_II.ipynb",
      "provenance": [],
      "collapsed_sections": []
    },
    "kernelspec": {
      "display_name": "Python 3",
      "language": "python",
      "name": "python3"
    },
    "language_info": {
      "codemirror_mode": {
        "name": "ipython",
        "version": 3
      },
      "file_extension": ".py",
      "mimetype": "text/x-python",
      "name": "python",
      "nbconvert_exporter": "python",
      "pygments_lexer": "ipython3",
      "version": "3.6.13"
    }
  },
  "cells": [
    {
      "cell_type": "code",
      "metadata": {
        "id": "beadab88"
      },
      "source": [
        "# %config Completer.use_jedi = False"
      ],
      "id": "beadab88",
      "execution_count": null,
      "outputs": []
    },
    {
      "cell_type": "code",
      "metadata": {
        "colab": {
          "base_uri": "https://localhost:8080/"
        },
        "id": "qMpc8AAC2J0-",
        "outputId": "9dd5e79f-8248-452a-e375-ddf23d89fd85"
      },
      "source": [
        "from google.colab import drive\n",
        "drive.mount('/content/drive/')\n",
        "import os\n",
        "os.chdir('/content/drive/MyDrive')"
      ],
      "id": "qMpc8AAC2J0-",
      "execution_count": null,
      "outputs": [
        {
          "output_type": "stream",
          "name": "stdout",
          "text": [
            "Drive already mounted at /content/drive/; to attempt to forcibly remount, call drive.mount(\"/content/drive/\", force_remount=True).\n"
          ]
        }
      ]
    },
    {
      "cell_type": "code",
      "metadata": {
        "id": "BZxOGfsjQ731"
      },
      "source": [
        "# gpu_info = !nvidia-smi\n",
        "# gpu_info = '\\n'.join(gpu_info)\n",
        "# if gpu_info.find('failed') >= 0:\n",
        "#   print('Not connected to a GPU')\n",
        "# else:\n",
        "#   print(gpu_info)"
      ],
      "id": "BZxOGfsjQ731",
      "execution_count": null,
      "outputs": []
    },
    {
      "cell_type": "code",
      "metadata": {
        "colab": {
          "base_uri": "https://localhost:8080/"
        },
        "id": "EBCvKy1kOlg6",
        "outputId": "660753ce-c504-4a83-944b-7a5597d4c846"
      },
      "source": [
        "!pip3 install Box2D\n",
        "!pip3 install box2d-py\n",
        "# !pip3 uninstall gym[all]\n",
        "!pip3 install gym[Box_2D]\n"
      ],
      "id": "EBCvKy1kOlg6",
      "execution_count": null,
      "outputs": [
        {
          "output_type": "stream",
          "name": "stdout",
          "text": [
            "Collecting Box2D\n",
            "  Downloading Box2D-2.3.10-cp37-cp37m-manylinux1_x86_64.whl (1.3 MB)\n",
            "\u001b[?25l\r\u001b[K     |▎                               | 10 kB 33.8 MB/s eta 0:00:01\r\u001b[K     |▌                               | 20 kB 18.1 MB/s eta 0:00:01\r\u001b[K     |▊                               | 30 kB 17.2 MB/s eta 0:00:01\r\u001b[K     |█                               | 40 kB 15.5 MB/s eta 0:00:01\r\u001b[K     |█▎                              | 51 kB 7.0 MB/s eta 0:00:01\r\u001b[K     |█▌                              | 61 kB 8.2 MB/s eta 0:00:01\r\u001b[K     |█▊                              | 71 kB 7.8 MB/s eta 0:00:01\r\u001b[K     |██                              | 81 kB 8.7 MB/s eta 0:00:01\r\u001b[K     |██▎                             | 92 kB 9.4 MB/s eta 0:00:01\r\u001b[K     |██▌                             | 102 kB 7.1 MB/s eta 0:00:01\r\u001b[K     |██▊                             | 112 kB 7.1 MB/s eta 0:00:01\r\u001b[K     |███                             | 122 kB 7.1 MB/s eta 0:00:01\r\u001b[K     |███▏                            | 133 kB 7.1 MB/s eta 0:00:01\r\u001b[K     |███▌                            | 143 kB 7.1 MB/s eta 0:00:01\r\u001b[K     |███▊                            | 153 kB 7.1 MB/s eta 0:00:01\r\u001b[K     |████                            | 163 kB 7.1 MB/s eta 0:00:01\r\u001b[K     |████▏                           | 174 kB 7.1 MB/s eta 0:00:01\r\u001b[K     |████▌                           | 184 kB 7.1 MB/s eta 0:00:01\r\u001b[K     |████▊                           | 194 kB 7.1 MB/s eta 0:00:01\r\u001b[K     |█████                           | 204 kB 7.1 MB/s eta 0:00:01\r\u001b[K     |█████▏                          | 215 kB 7.1 MB/s eta 0:00:01\r\u001b[K     |█████▌                          | 225 kB 7.1 MB/s eta 0:00:01\r\u001b[K     |█████▊                          | 235 kB 7.1 MB/s eta 0:00:01\r\u001b[K     |██████                          | 245 kB 7.1 MB/s eta 0:00:01\r\u001b[K     |██████▏                         | 256 kB 7.1 MB/s eta 0:00:01\r\u001b[K     |██████▍                         | 266 kB 7.1 MB/s eta 0:00:01\r\u001b[K     |██████▊                         | 276 kB 7.1 MB/s eta 0:00:01\r\u001b[K     |███████                         | 286 kB 7.1 MB/s eta 0:00:01\r\u001b[K     |███████▏                        | 296 kB 7.1 MB/s eta 0:00:01\r\u001b[K     |███████▍                        | 307 kB 7.1 MB/s eta 0:00:01\r\u001b[K     |███████▊                        | 317 kB 7.1 MB/s eta 0:00:01\r\u001b[K     |████████                        | 327 kB 7.1 MB/s eta 0:00:01\r\u001b[K     |████████▏                       | 337 kB 7.1 MB/s eta 0:00:01\r\u001b[K     |████████▍                       | 348 kB 7.1 MB/s eta 0:00:01\r\u001b[K     |████████▊                       | 358 kB 7.1 MB/s eta 0:00:01\r\u001b[K     |█████████                       | 368 kB 7.1 MB/s eta 0:00:01\r\u001b[K     |█████████▏                      | 378 kB 7.1 MB/s eta 0:00:01\r\u001b[K     |█████████▍                      | 389 kB 7.1 MB/s eta 0:00:01\r\u001b[K     |█████████▋                      | 399 kB 7.1 MB/s eta 0:00:01\r\u001b[K     |██████████                      | 409 kB 7.1 MB/s eta 0:00:01\r\u001b[K     |██████████▏                     | 419 kB 7.1 MB/s eta 0:00:01\r\u001b[K     |██████████▍                     | 430 kB 7.1 MB/s eta 0:00:01\r\u001b[K     |██████████▋                     | 440 kB 7.1 MB/s eta 0:00:01\r\u001b[K     |███████████                     | 450 kB 7.1 MB/s eta 0:00:01\r\u001b[K     |███████████▏                    | 460 kB 7.1 MB/s eta 0:00:01\r\u001b[K     |███████████▍                    | 471 kB 7.1 MB/s eta 0:00:01\r\u001b[K     |███████████▋                    | 481 kB 7.1 MB/s eta 0:00:01\r\u001b[K     |████████████                    | 491 kB 7.1 MB/s eta 0:00:01\r\u001b[K     |████████████▏                   | 501 kB 7.1 MB/s eta 0:00:01\r\u001b[K     |████████████▍                   | 512 kB 7.1 MB/s eta 0:00:01\r\u001b[K     |████████████▋                   | 522 kB 7.1 MB/s eta 0:00:01\r\u001b[K     |████████████▉                   | 532 kB 7.1 MB/s eta 0:00:01\r\u001b[K     |█████████████▏                  | 542 kB 7.1 MB/s eta 0:00:01\r\u001b[K     |█████████████▍                  | 552 kB 7.1 MB/s eta 0:00:01\r\u001b[K     |█████████████▋                  | 563 kB 7.1 MB/s eta 0:00:01\r\u001b[K     |█████████████▉                  | 573 kB 7.1 MB/s eta 0:00:01\r\u001b[K     |██████████████▏                 | 583 kB 7.1 MB/s eta 0:00:01\r\u001b[K     |██████████████▍                 | 593 kB 7.1 MB/s eta 0:00:01\r\u001b[K     |██████████████▋                 | 604 kB 7.1 MB/s eta 0:00:01\r\u001b[K     |██████████████▉                 | 614 kB 7.1 MB/s eta 0:00:01\r\u001b[K     |███████████████▏                | 624 kB 7.1 MB/s eta 0:00:01\r\u001b[K     |███████████████▍                | 634 kB 7.1 MB/s eta 0:00:01\r\u001b[K     |███████████████▋                | 645 kB 7.1 MB/s eta 0:00:01\r\u001b[K     |███████████████▉                | 655 kB 7.1 MB/s eta 0:00:01\r\u001b[K     |████████████████                | 665 kB 7.1 MB/s eta 0:00:01\r\u001b[K     |████████████████▍               | 675 kB 7.1 MB/s eta 0:00:01\r\u001b[K     |████████████████▋               | 686 kB 7.1 MB/s eta 0:00:01\r\u001b[K     |████████████████▉               | 696 kB 7.1 MB/s eta 0:00:01\r\u001b[K     |█████████████████               | 706 kB 7.1 MB/s eta 0:00:01\r\u001b[K     |█████████████████▍              | 716 kB 7.1 MB/s eta 0:00:01\r\u001b[K     |█████████████████▋              | 727 kB 7.1 MB/s eta 0:00:01\r\u001b[K     |█████████████████▉              | 737 kB 7.1 MB/s eta 0:00:01\r\u001b[K     |██████████████████              | 747 kB 7.1 MB/s eta 0:00:01\r\u001b[K     |██████████████████▎             | 757 kB 7.1 MB/s eta 0:00:01\r\u001b[K     |██████████████████▋             | 768 kB 7.1 MB/s eta 0:00:01\r\u001b[K     |██████████████████▉             | 778 kB 7.1 MB/s eta 0:00:01\r\u001b[K     |███████████████████             | 788 kB 7.1 MB/s eta 0:00:01\r\u001b[K     |███████████████████▎            | 798 kB 7.1 MB/s eta 0:00:01\r\u001b[K     |███████████████████▋            | 808 kB 7.1 MB/s eta 0:00:01\r\u001b[K     |███████████████████▉            | 819 kB 7.1 MB/s eta 0:00:01\r\u001b[K     |████████████████████            | 829 kB 7.1 MB/s eta 0:00:01\r\u001b[K     |████████████████████▎           | 839 kB 7.1 MB/s eta 0:00:01\r\u001b[K     |████████████████████▋           | 849 kB 7.1 MB/s eta 0:00:01\r\u001b[K     |████████████████████▉           | 860 kB 7.1 MB/s eta 0:00:01\r\u001b[K     |█████████████████████           | 870 kB 7.1 MB/s eta 0:00:01\r\u001b[K     |█████████████████████▎          | 880 kB 7.1 MB/s eta 0:00:01\r\u001b[K     |█████████████████████▌          | 890 kB 7.1 MB/s eta 0:00:01\r\u001b[K     |█████████████████████▉          | 901 kB 7.1 MB/s eta 0:00:01\r\u001b[K     |██████████████████████          | 911 kB 7.1 MB/s eta 0:00:01\r\u001b[K     |██████████████████████▎         | 921 kB 7.1 MB/s eta 0:00:01\r\u001b[K     |██████████████████████▌         | 931 kB 7.1 MB/s eta 0:00:01\r\u001b[K     |██████████████████████▉         | 942 kB 7.1 MB/s eta 0:00:01\r\u001b[K     |███████████████████████         | 952 kB 7.1 MB/s eta 0:00:01\r\u001b[K     |███████████████████████▎        | 962 kB 7.1 MB/s eta 0:00:01\r\u001b[K     |███████████████████████▌        | 972 kB 7.1 MB/s eta 0:00:01\r\u001b[K     |███████████████████████▉        | 983 kB 7.1 MB/s eta 0:00:01\r\u001b[K     |████████████████████████        | 993 kB 7.1 MB/s eta 0:00:01\r\u001b[K     |████████████████████████▎       | 1.0 MB 7.1 MB/s eta 0:00:01\r\u001b[K     |████████████████████████▌       | 1.0 MB 7.1 MB/s eta 0:00:01\r\u001b[K     |████████████████████████▊       | 1.0 MB 7.1 MB/s eta 0:00:01\r\u001b[K     |█████████████████████████       | 1.0 MB 7.1 MB/s eta 0:00:01\r\u001b[K     |█████████████████████████▎      | 1.0 MB 7.1 MB/s eta 0:00:01\r\u001b[K     |█████████████████████████▌      | 1.1 MB 7.1 MB/s eta 0:00:01\r\u001b[K     |█████████████████████████▊      | 1.1 MB 7.1 MB/s eta 0:00:01\r\u001b[K     |██████████████████████████      | 1.1 MB 7.1 MB/s eta 0:00:01\r\u001b[K     |██████████████████████████▎     | 1.1 MB 7.1 MB/s eta 0:00:01\r\u001b[K     |██████████████████████████▌     | 1.1 MB 7.1 MB/s eta 0:00:01\r\u001b[K     |██████████████████████████▊     | 1.1 MB 7.1 MB/s eta 0:00:01\r\u001b[K     |███████████████████████████     | 1.1 MB 7.1 MB/s eta 0:00:01\r\u001b[K     |███████████████████████████▎    | 1.1 MB 7.1 MB/s eta 0:00:01\r\u001b[K     |███████████████████████████▌    | 1.1 MB 7.1 MB/s eta 0:00:01\r\u001b[K     |███████████████████████████▊    | 1.1 MB 7.1 MB/s eta 0:00:01\r\u001b[K     |████████████████████████████    | 1.2 MB 7.1 MB/s eta 0:00:01\r\u001b[K     |████████████████████████████▎   | 1.2 MB 7.1 MB/s eta 0:00:01\r\u001b[K     |████████████████████████████▌   | 1.2 MB 7.1 MB/s eta 0:00:01\r\u001b[K     |████████████████████████████▊   | 1.2 MB 7.1 MB/s eta 0:00:01\r\u001b[K     |█████████████████████████████   | 1.2 MB 7.1 MB/s eta 0:00:01\r\u001b[K     |█████████████████████████████▎  | 1.2 MB 7.1 MB/s eta 0:00:01\r\u001b[K     |█████████████████████████████▌  | 1.2 MB 7.1 MB/s eta 0:00:01\r\u001b[K     |█████████████████████████████▊  | 1.2 MB 7.1 MB/s eta 0:00:01\r\u001b[K     |██████████████████████████████  | 1.2 MB 7.1 MB/s eta 0:00:01\r\u001b[K     |██████████████████████████████▎ | 1.2 MB 7.1 MB/s eta 0:00:01\r\u001b[K     |██████████████████████████████▌ | 1.3 MB 7.1 MB/s eta 0:00:01\r\u001b[K     |██████████████████████████████▊ | 1.3 MB 7.1 MB/s eta 0:00:01\r\u001b[K     |███████████████████████████████ | 1.3 MB 7.1 MB/s eta 0:00:01\r\u001b[K     |███████████████████████████████▏| 1.3 MB 7.1 MB/s eta 0:00:01\r\u001b[K     |███████████████████████████████▌| 1.3 MB 7.1 MB/s eta 0:00:01\r\u001b[K     |███████████████████████████████▊| 1.3 MB 7.1 MB/s eta 0:00:01\r\u001b[K     |████████████████████████████████| 1.3 MB 7.1 MB/s eta 0:00:01\r\u001b[K     |████████████████████████████████| 1.3 MB 7.1 MB/s \n",
            "\u001b[?25hInstalling collected packages: Box2D\n",
            "Successfully installed Box2D-2.3.10\n",
            "Collecting box2d-py\n",
            "  Downloading box2d_py-2.3.8-cp37-cp37m-manylinux1_x86_64.whl (448 kB)\n",
            "\u001b[K     |████████████████████████████████| 448 kB 8.0 MB/s \n",
            "\u001b[?25hInstalling collected packages: box2d-py\n",
            "Successfully installed box2d-py-2.3.8\n",
            "Requirement already satisfied: gym[Box_2D] in /usr/local/lib/python3.7/dist-packages (0.17.3)\n",
            "\u001b[33mWARNING: gym 0.17.3 does not provide the extra 'box_2d'\u001b[0m\n",
            "Requirement already satisfied: cloudpickle<1.7.0,>=1.2.0 in /usr/local/lib/python3.7/dist-packages (from gym[Box_2D]) (1.3.0)\n",
            "Requirement already satisfied: numpy>=1.10.4 in /usr/local/lib/python3.7/dist-packages (from gym[Box_2D]) (1.19.5)\n",
            "Requirement already satisfied: scipy in /usr/local/lib/python3.7/dist-packages (from gym[Box_2D]) (1.4.1)\n",
            "Requirement already satisfied: pyglet<=1.5.0,>=1.4.0 in /usr/local/lib/python3.7/dist-packages (from gym[Box_2D]) (1.5.0)\n",
            "Requirement already satisfied: future in /usr/local/lib/python3.7/dist-packages (from pyglet<=1.5.0,>=1.4.0->gym[Box_2D]) (0.16.0)\n"
          ]
        }
      ]
    },
    {
      "cell_type": "code",
      "metadata": {
        "id": "d24a450c"
      },
      "source": [
        "import gym\n",
        "import numpy as np\n",
        "import torch\n",
        "import torch.nn as nn\n",
        "import torch.nn.functional as F\n",
        "import random\n",
        "from collections import defaultdict ,namedtuple"
      ],
      "id": "d24a450c",
      "execution_count": null,
      "outputs": []
    },
    {
      "cell_type": "code",
      "metadata": {
        "colab": {
          "base_uri": "https://localhost:8080/"
        },
        "id": "ea0a661c",
        "outputId": "9498414b-3e5a-462a-be16-2f12a04fd5f7"
      },
      "source": [
        "print(torch.cuda.is_available())\n"
      ],
      "id": "ea0a661c",
      "execution_count": null,
      "outputs": [
        {
          "output_type": "stream",
          "name": "stdout",
          "text": [
            "True\n"
          ]
        }
      ]
    },
    {
      "cell_type": "code",
      "metadata": {
        "id": "hZ3xQE0Numaf"
      },
      "source": [
        "import time"
      ],
      "id": "hZ3xQE0Numaf",
      "execution_count": null,
      "outputs": []
    },
    {
      "cell_type": "code",
      "metadata": {
        "colab": {
          "base_uri": "https://localhost:8080/"
        },
        "id": "465866c0",
        "outputId": "dd54be83-a347-41b9-a222-4e24cba77bb7"
      },
      "source": [
        "env = gym.make('LunarLander-v2')\n",
        "env.seed(0)\n",
        "print('Environment shape:',env.observation_space.shape)\n",
        "print('Action space shape:',env.action_space.n)\n",
        "state=env.reset()\n",
        "print('Initial random state:',state)\n",
        "state_space=env.observation_space.shape\n",
        "action_space=env.action_space.n"
      ],
      "id": "465866c0",
      "execution_count": null,
      "outputs": [
        {
          "output_type": "stream",
          "name": "stdout",
          "text": [
            "Environment shape: (8,)\n",
            "Action space shape: 4\n",
            "Initial random state: [-5.9156417e-04  1.4134574e+00 -5.9935719e-02  1.1277095e-01\n",
            "  6.9228926e-04  1.3576316e-02  0.0000000e+00  0.0000000e+00]\n"
          ]
        }
      ]
    },
    {
      "cell_type": "markdown",
      "metadata": {
        "id": "12aefc5a"
      },
      "source": [
        "#### The state space is as follows:<br>\n",
        "<ul>\n",
        "<li>pos.x - x-coordinate of the lander # raw input. This variable is transformed during the state creation</li>\n",
        "<li>pos.y - y-coordinate of the lander # raw input. This variable is transformed during the state creation</li>\n",
        "<li>vel.x - velocity of lander along x axis # raw input. This variable is transformed during the state creation</li>\n",
        "<li>vel.y - velocity of lander along y axis # raw input. This variable is transformed during the state creation</li>\n",
        "<li>self.lander.angle - angle of the lander # raw input. This variable is transformed during the state creation</li>\n",
        "<li>self.lander.angularVelocity - angular velocity of the lander # raw input. This variable is transformed during the state creation</li>\n",
        "<li>self.legs[0].ground_contact - if leg 0 of the lander is in contact with the ground # raw input. This variable is transformed during the state creation</li>\n",
        "<li>self.legs[1].ground_contact - if leg 1 of the lander is in contact with the ground # raw input. This variable is transformed during the state creation</li>\n",
        "</ul>"
      ],
      "id": "12aefc5a"
    },
    {
      "cell_type": "markdown",
      "metadata": {
        "id": "d0c40773"
      },
      "source": [
        "#### The action space is as follows:\n",
        "[Don't fire engines, fire left engine, main engine, right engine]\n"
      ],
      "id": "d0c40773"
    },
    {
      "cell_type": "code",
      "metadata": {
        "id": "f23459ab"
      },
      "source": [
        "class DNN(nn.Module):\n",
        "    def __init__(self,input_size, output_size,hidden_size1=64, hidden_size2=64):\n",
        "        super().__init__()\n",
        "        self.Lin1=nn.Linear(input_size,hidden_size1)\n",
        "        self.Lin2=nn.Linear(hidden_size1,hidden_size2)\n",
        "        self.Lin3=nn.Linear(hidden_size2,output_size)\n",
        "        \n",
        "    def forward(self,X):\n",
        "        X=F.relu(self.Lin1(X))\n",
        "        X=F.relu(self.Lin2(X))\n",
        "        X=self.Lin3(X)\n",
        "        return X"
      ],
      "id": "f23459ab",
      "execution_count": null,
      "outputs": []
    },
    {
      "cell_type": "code",
      "metadata": {
        "id": "6d005bdf"
      },
      "source": [
        "class ReplayBuffer():\n",
        "    def __init__(self,batch_size=64,size=int(1e4)):\n",
        "        self.buffer_size=size\n",
        "        self.batch_size=batch_size\n",
        "        self.buffer=[]\n",
        "        self.step=namedtuple('step',field_names=['state', 'action', 'reward', 'next_state', 'done']) #from https://stackoverflow.com/a/43404344 to reduce memory size\n",
        "        self.states=[]\n",
        "        self.actions=[]\n",
        "        self.rewards=[]\n",
        "        self.next_states=[]\n",
        "        self.terminal=0\n",
        "        self.counter=0 #count total number of items in the buffer\n",
        "    \n",
        "    def add_item(self, state, action, reward,next_state,done):\n",
        "        st=self.step(state,action,reward,next_state, done)\n",
        "        if self.counter<self.buffer_size:\n",
        "            self.buffer.append(st)\n",
        "        else:\n",
        "            i=(self.counter+1)%self.buffer_size\n",
        "            self.buffer[i]=st\n",
        "        self.counter+=1\n",
        "\n",
        "    def sample(self):\n",
        "        np.random.seed(42)\n",
        "        if len(self.buffer)<self.batch_size:\n",
        "            print(f'Still needs to be populated: {len(self.buffer)} populated out of {self.batch_size}: {len(self.buffer)*100/self.batch_size}% complete')\n",
        "        else:\n",
        "            sample_idx=random.sample(self.buffer,self.batch_size)\n",
        "            states_=torch.from_numpy(np.vstack([e.state for e in sample_idx if e is not None])).float().cuda()\n",
        "            actions_=torch.from_numpy(np.vstack([e.action for e in sample_idx if e is not None])).long().cuda()\n",
        "            rewards_=torch.from_numpy(np.vstack([e.reward for e in sample_idx if e is not None])).float().cuda()\n",
        "            next_states_=torch.from_numpy(np.vstack([e.next_state for e in sample_idx if e is not None])).float().cuda()\n",
        "            dones_=torch.from_numpy(np.vstack([e.done for e in sample_idx if e is not None]).astype(np.uint8)).float().squeeze().cuda()\n",
        "        return (states_, actions_, rewards_, next_states_,dones_)     "
      ],
      "id": "6d005bdf",
      "execution_count": null,
      "outputs": []
    },
    {
      "cell_type": "code",
      "metadata": {
        "id": "53a0966e"
      },
      "source": [
        "torch.random.manual_seed(42)\n",
        "pred_model=DNN(state_space[0],action_space).cuda()\n",
        "target_model=DNN(state_space[0],action_space).cuda()"
      ],
      "id": "53a0966e",
      "execution_count": null,
      "outputs": []
    },
    {
      "cell_type": "code",
      "metadata": {
        "id": "28ddcdf5"
      },
      "source": [
        "criterion = nn.MSELoss()\n",
        "optimizer=torch.optim.Adam(pred_model.parameters(),lr=5e-4)"
      ],
      "id": "28ddcdf5",
      "execution_count": null,
      "outputs": []
    },
    {
      "cell_type": "code",
      "metadata": {
        "id": "5cfc861b"
      },
      "source": [
        "class DQNAgent():\n",
        "    def __init__(self,env,buffer,dnn_pred,dnn_target,gamma=0.99,replace=500,epsilon=1):\n",
        "        self.buffer=buffer\n",
        "        self.pred_net=dnn_pred\n",
        "        self.target_net=dnn_target\n",
        "        self.replace_count=replace\n",
        "        self.epsilon=epsilon\n",
        "        self.gamma=gamma\n",
        "        self.losses=[]\n",
        "        \n",
        "    def choose_action(self,env,state):\n",
        "        if random.random()>self.epsilon:\n",
        "            with torch.no_grad():\n",
        "                state=torch.FloatTensor(state).cuda()\n",
        "                action=torch.argmax(self.pred_net.forward(state)).item()\n",
        "        else:\n",
        "            action=env.action_space.sample()\n",
        "        return action\n",
        "        \n",
        "    def step(self):\n",
        "        states, actions, rewards, next_states,dones=self.buffer.sample()\n",
        "        dones=dones.reshape(-1,1)\n",
        "        acts = actions.squeeze().type(torch.int64).view(-1,1).cuda()#Get updates from buffer\n",
        "        preds=self.pred_net.forward(states).squeeze().gather(-1,acts)\n",
        "        #Forward pass to get predicted values for the training network ---- (1)\n",
        "        target_q=torch.max(self.target_net.forward(next_states.float()),dim=1)[0].reshape(-1,1) #get max(Q(next_states)) for the target_q as the reference values\n",
        "        targets=rewards+(self.gamma*target_q*(1-dones[0])).detach() # get TD update for max(Q[next_state]) 1-dones implies there should no q(next_state) or q_next state for terminal state=0 ---- (2)\n",
        "        loss=criterion(preds,targets.view(-1,1))#Calculate MSE loss between (2) and (1)\n",
        "        optimizer.zero_grad() #Initiate backpropogation\n",
        "        loss.backward()  #Get backpropogation gradients\n",
        "        optimizer.step() #Update weights\n",
        "        return loss\n",
        "    \n",
        "    def update_target_weights(self):\n",
        "        for pred, targ in zip(self.pred_net.parameters(), self.target_net.parameters()):\n",
        "            targ.data.copy_(pred.data)"
      ],
      "id": "5cfc861b",
      "execution_count": null,
      "outputs": []
    },
    {
      "cell_type": "code",
      "metadata": {
        "id": "75161019"
      },
      "source": [
        "import time"
      ],
      "id": "75161019",
      "execution_count": null,
      "outputs": []
    },
    {
      "cell_type": "code",
      "metadata": {
        "id": "3cee0757"
      },
      "source": [
        "def initiate_buffer(env,agent,episode_length=2): #Run a few episodes just to populate the buffer\n",
        "    for epi in range(episode_length):          \n",
        "        state = env.reset()\n",
        "        action=env.action_space.sample()\n",
        "        done=False\n",
        "        while not done:\n",
        "            next_state, rewards, done, info = env.step(action)\n",
        "            agent.buffer.add_item(state, action, rewards, next_state,done)\n",
        "    print(len(agent.buffer.buffer))"
      ],
      "id": "3cee0757",
      "execution_count": null,
      "outputs": []
    },
    {
      "cell_type": "code",
      "metadata": {
        "id": "0e38e8ff"
      },
      "source": [
        "rep_buffer=ReplayBuffer()\n",
        "agent=DQNAgent(env,rep_buffer,pred_model,target_model)"
      ],
      "id": "0e38e8ff",
      "execution_count": null,
      "outputs": []
    },
    {
      "cell_type": "code",
      "metadata": {
        "colab": {
          "base_uri": "https://localhost:8080/"
        },
        "id": "e85ad85d",
        "outputId": "0db2cd1b-100b-4e75-80e9-7fb804b5e195"
      },
      "source": [
        "initiate_buffer(env,agent)"
      ],
      "id": "e85ad85d",
      "execution_count": null,
      "outputs": [
        {
          "output_type": "stream",
          "name": "stdout",
          "text": [
            "285\n"
          ]
        }
      ]
    },
    {
      "cell_type": "code",
      "metadata": {
        "id": "gDeKa85leGwr"
      },
      "source": [
        "import time"
      ],
      "id": "gDeKa85leGwr",
      "execution_count": null,
      "outputs": []
    },
    {
      "cell_type": "code",
      "metadata": {
        "colab": {
          "base_uri": "https://localhost:8080/"
        },
        "id": "b80f60b5",
        "outputId": "40846678-b44f-444a-ebd2-2182bdb26651"
      },
      "source": [
        "episode_rewards=[]\n",
        "episode_loss=[]\n",
        "times=[]\n",
        "episode_count=2000\n",
        "counter_change=0\n",
        "best_avg_reward=-np.inf\n",
        "for epi in range(episode_count):## Introduce all resetting of parameters of epsilon here\n",
        "    print('\\rEpisode {}'.format(epi+1), end=\"\")\n",
        "    start=time.time()\n",
        "    done=False\n",
        "    state=env.reset()\n",
        "    agent.epsilon=max(agent.epsilon*0.995,0.01)\n",
        "    init_reward=0\n",
        "    step=0\n",
        "    while not done:\n",
        "        action=agent.choose_action(env,state)\n",
        "        next_state,reward,done,info=env.step(action)\n",
        "        init_reward+=reward\n",
        "        agent.buffer.add_item(state, action, reward, next_state,done)\n",
        "        loss=agent.step()\n",
        "        counter_change+=1\n",
        "        if counter_change%agent.replace_count==0:\n",
        "            agent.update_target_weights()\n",
        "        state=next_state\n",
        "        step+=1\n",
        "    agent.terminal=next_state\n",
        "    end=time.time()\n",
        "    dur=end-start\n",
        "    times.append(dur)\n",
        "    episode_loss.append(loss)\n",
        "    episode_rewards.append(init_reward)\n",
        "    if (epi+1)%100==0:\n",
        "        print(f'\\n\\nLoss for episode {epi+1}: {loss}')\n",
        "        print(f'Duration for episode for {epi+1}:',dur)\n",
        "        print(f'No. of steps for {epi+1}:',step)\n",
        "        avg_rewards=np.mean(episode_rewards[-100:])\n",
        "        print(f'Rewards for {epi+1}:', avg_rewards)\n",
        "        print(f'Replay buffer length for {epi+1}:',len(agent.buffer.buffer))\n",
        "        print('\\n')\n",
        "        if avg_rewards>=200:\n",
        "          print(f'Target crossed: {best_avg_reward}')\n",
        "          print('\\n')\n",
        "          torch.save(agent.pred_net.state_dict(), 'pred_model_weights_fit.pth')\n",
        "          torch.save(agent.target_net.state_dict(), 'target_model_weights_fit.pth')\n",
        "          if avg_rewards>best_avg_reward:\n",
        "            print('Previous highest average reward crossed. New highest average reward is:',avg_rewards)\n",
        "            best_avg_reward=avg_rewards\n",
        "            torch.save(agent.pred_net.state_dict(), 'pred_model_weights_highest.pth')\n",
        "            torch.save(agent.target_net.state_dict(), 'target_model_weights_highest.pth')\n",
        "     "
      ],
      "id": "b80f60b5",
      "execution_count": null,
      "outputs": [
        {
          "output_type": "stream",
          "name": "stdout",
          "text": [
            "Episode 100\n",
            "\n",
            "Loss for episode 100: 38.56497573852539\n",
            "Duration for episode for 100: 0.4093286991119385\n",
            "No. of steps for 100: 144\n",
            "Rewards for 100: -142.5908196973642\n",
            "Replay buffer length for 100: 10000\n",
            "\n",
            "\n",
            "Episode 200\n",
            "\n",
            "Loss for episode 200: 3.2723045349121094\n",
            "Duration for episode for 200: 4.551192283630371\n",
            "No. of steps for 200: 1000\n",
            "Rewards for 200: -116.11127017054758\n",
            "Replay buffer length for 200: 10000\n",
            "\n",
            "\n",
            "Episode 300\n",
            "\n",
            "Loss for episode 300: 2.072286367416382\n",
            "Duration for episode for 300: 0.42774009704589844\n",
            "No. of steps for 300: 146\n",
            "Rewards for 300: 3.866173595037361\n",
            "Replay buffer length for 300: 10000\n",
            "\n",
            "\n",
            "Episode 400\n",
            "\n",
            "Loss for episode 400: 1.590430498123169\n",
            "Duration for episode for 400: 0.4739961624145508\n",
            "No. of steps for 400: 158\n",
            "Rewards for 400: 129.81064740920303\n",
            "Replay buffer length for 400: 10000\n",
            "\n",
            "\n",
            "Episode 500\n",
            "\n",
            "Loss for episode 500: 1.7442142963409424\n",
            "Duration for episode for 500: 1.3150889873504639\n",
            "No. of steps for 500: 415\n",
            "Rewards for 500: 157.72538472036825\n",
            "Replay buffer length for 500: 10000\n",
            "\n",
            "\n",
            "Episode 600\n",
            "\n",
            "Loss for episode 600: 7.371005058288574\n",
            "Duration for episode for 600: 0.7748062610626221\n",
            "No. of steps for 600: 268\n",
            "Rewards for 600: 212.8329416515223\n",
            "Replay buffer length for 600: 10000\n",
            "\n",
            "\n",
            "Target crossed: -inf\n",
            "\n",
            "\n",
            "Previous highest average reward crossed. New highest average reward is: 212.8329416515223\n",
            "Episode 700\n",
            "\n",
            "Loss for episode 700: 8.534814834594727\n",
            "Duration for episode for 700: 0.81815505027771\n",
            "No. of steps for 700: 277\n",
            "Rewards for 700: 191.59594118770522\n",
            "Replay buffer length for 700: 10000\n",
            "\n",
            "\n",
            "Episode 800\n",
            "\n",
            "Loss for episode 800: 3.944232940673828\n",
            "Duration for episode for 800: 1.3716216087341309\n",
            "No. of steps for 800: 427\n",
            "Rewards for 800: 216.77337530832222\n",
            "Replay buffer length for 800: 10000\n",
            "\n",
            "\n",
            "Target crossed: 212.8329416515223\n",
            "\n",
            "\n",
            "Previous highest average reward crossed. New highest average reward is: 216.77337530832222\n",
            "Episode 900\n",
            "\n",
            "Loss for episode 900: 3.062314987182617\n",
            "Duration for episode for 900: 0.9263386726379395\n",
            "No. of steps for 900: 301\n",
            "Rewards for 900: 177.37012722736662\n",
            "Replay buffer length for 900: 10000\n",
            "\n",
            "\n",
            "Episode 1000\n",
            "\n",
            "Loss for episode 1000: 2.315364360809326\n",
            "Duration for episode for 1000: 0.7703137397766113\n",
            "No. of steps for 1000: 250\n",
            "Rewards for 1000: 264.88521676733035\n",
            "Replay buffer length for 1000: 10000\n",
            "\n",
            "\n",
            "Target crossed: 216.77337530832222\n",
            "\n",
            "\n",
            "Previous highest average reward crossed. New highest average reward is: 264.88521676733035\n",
            "Episode 1100\n",
            "\n",
            "Loss for episode 1100: 152.27293395996094\n",
            "Duration for episode for 1100: 0.6773684024810791\n",
            "No. of steps for 1100: 228\n",
            "Rewards for 1100: 249.84317754946875\n",
            "Replay buffer length for 1100: 10000\n",
            "\n",
            "\n",
            "Target crossed: 264.88521676733035\n",
            "\n",
            "\n",
            "Episode 1200\n",
            "\n",
            "Loss for episode 1200: 1.959083914756775\n",
            "Duration for episode for 1200: 0.7649872303009033\n",
            "No. of steps for 1200: 242\n",
            "Rewards for 1200: 262.56606646511824\n",
            "Replay buffer length for 1200: 10000\n",
            "\n",
            "\n",
            "Target crossed: 264.88521676733035\n",
            "\n",
            "\n",
            "Episode 1300\n",
            "\n",
            "Loss for episode 1300: 153.31935119628906\n",
            "Duration for episode for 1300: 0.657721996307373\n",
            "No. of steps for 1300: 227\n",
            "Rewards for 1300: 261.6282556276886\n",
            "Replay buffer length for 1300: 10000\n",
            "\n",
            "\n",
            "Target crossed: 264.88521676733035\n",
            "\n",
            "\n",
            "Episode 1400\n",
            "\n",
            "Loss for episode 1400: 2.9623780250549316\n",
            "Duration for episode for 1400: 0.9277098178863525\n",
            "No. of steps for 1400: 309\n",
            "Rewards for 1400: 266.8026478917161\n",
            "Replay buffer length for 1400: 10000\n",
            "\n",
            "\n",
            "Target crossed: 264.88521676733035\n",
            "\n",
            "\n",
            "Previous highest average reward crossed. New highest average reward is: 266.8026478917161\n",
            "Episode 1500\n",
            "\n",
            "Loss for episode 1500: 150.32635498046875\n",
            "Duration for episode for 1500: 0.6542294025421143\n",
            "No. of steps for 1500: 221\n",
            "Rewards for 1500: 259.875282929429\n",
            "Replay buffer length for 1500: 10000\n",
            "\n",
            "\n",
            "Target crossed: 266.8026478917161\n",
            "\n",
            "\n",
            "Episode 1600\n",
            "\n",
            "Loss for episode 1600: 7.664584159851074\n",
            "Duration for episode for 1600: 0.4857029914855957\n",
            "No. of steps for 1600: 165\n",
            "Rewards for 1600: 250.19957821068735\n",
            "Replay buffer length for 1600: 10000\n",
            "\n",
            "\n",
            "Target crossed: 266.8026478917161\n",
            "\n",
            "\n",
            "Episode 1700\n",
            "\n",
            "Loss for episode 1700: 3.84262752532959\n",
            "Duration for episode for 1700: 0.8661272525787354\n",
            "No. of steps for 1700: 266\n",
            "Rewards for 1700: 264.2040148404393\n",
            "Replay buffer length for 1700: 10000\n",
            "\n",
            "\n",
            "Target crossed: 266.8026478917161\n",
            "\n",
            "\n",
            "Episode 1800\n",
            "\n",
            "Loss for episode 1800: 150.4757080078125\n",
            "Duration for episode for 1800: 0.8042881488800049\n",
            "No. of steps for 1800: 264\n",
            "Rewards for 1800: 197.23301389075866\n",
            "Replay buffer length for 1800: 10000\n",
            "\n",
            "\n",
            "Episode 1900\n",
            "\n",
            "Loss for episode 1900: 17.325016021728516\n",
            "Duration for episode for 1900: 0.9553267955780029\n",
            "No. of steps for 1900: 311\n",
            "Rewards for 1900: 213.21339848235303\n",
            "Replay buffer length for 1900: 10000\n",
            "\n",
            "\n",
            "Target crossed: 266.8026478917161\n",
            "\n",
            "\n",
            "Episode 2000\n",
            "\n",
            "Loss for episode 2000: 15.574860572814941\n",
            "Duration for episode for 2000: 0.7901332378387451\n",
            "No. of steps for 2000: 250\n",
            "Rewards for 2000: 246.37895296766825\n",
            "Replay buffer length for 2000: 10000\n",
            "\n",
            "\n",
            "Target crossed: 266.8026478917161\n",
            "\n",
            "\n"
          ]
        }
      ]
    },
    {
      "cell_type": "code",
      "metadata": {
        "id": "27681076"
      },
      "source": [
        "import matplotlib.pyplot as plt"
      ],
      "id": "27681076",
      "execution_count": null,
      "outputs": []
    },
    {
      "cell_type": "code",
      "metadata": {
        "id": "5_lIghuorOup"
      },
      "source": [
        "np.save('epside_rewards.txt',episode_rewards)\n",
        "np.save('episode_loss.txt',episode_loss)\n",
        "np.save('episode_duration.txt',times)"
      ],
      "id": "5_lIghuorOup",
      "execution_count": null,
      "outputs": []
    },
    {
      "cell_type": "code",
      "metadata": {
        "id": "kcWDP9ZKszpU"
      },
      "source": [
        ""
      ],
      "id": "kcWDP9ZKszpU",
      "execution_count": null,
      "outputs": []
    },
    {
      "cell_type": "code",
      "metadata": {
        "id": "1619d9be",
        "colab": {
          "base_uri": "https://localhost:8080/",
          "height": 350
        },
        "outputId": "34414c54-2f42-4884-d95a-f68d46463b43"
      },
      "source": [
        "plt.figure(figsize=(15,5))\n",
        "plt.plot(range(episode_count),episode_rewards,color='#ff9c00')\n",
        "plt.axhline(y=200,linewidth=1,color='red')\n",
        "plt.xlabel('Episode number')\n",
        "plt.ylabel('Rewards for episode')\n",
        "plt.title('Rewards vs. Episode number')\n",
        "plt.show()\n",
        "\n"
      ],
      "id": "1619d9be",
      "execution_count": null,
      "outputs": [
        {
          "output_type": "display_data",
          "data": {
            "image/png": "[encoded data removed]",
            "text/plain": [
              "<Figure size 1080x360 with 1 Axes>"
            ]
          },
          "metadata": {
            "needs_background": "light"
          }
        }
      ]
    },
    {
      "cell_type": "code",
      "metadata": {
        "colab": {
          "base_uri": "https://localhost:8080/"
        },
        "id": "qJHNYSgN9TaC",
        "outputId": "d9be4f45-86f9-4c2f-accf-a03c1f023cc5"
      },
      "source": [
        "print('No. of episodes where the rewards crossed the threshold reward of 200 is:',(np.array(episode_rewards)>=200).sum())\n",
        "print('% of episodes where the rewards crossed the threshold reward of 200 is:',(np.array(episode_rewards)>=200).sum()*100/len(episode_rewards),'%')"
      ],
      "id": "qJHNYSgN9TaC",
      "execution_count": null,
      "outputs": [
        {
          "output_type": "stream",
          "name": "stdout",
          "text": [
            "No. of episodes where the rewards crossed the threshold reward of 200 is: 1435\n",
            "% of episodes where the rewards crossed the threshold reward of 200 is: 71.75 %\n"
          ]
        }
      ]
    },
    {
      "cell_type": "code",
      "metadata": {
        "colab": {
          "base_uri": "https://localhost:8080/",
          "height": 350
        },
        "id": "M2cd6Eg_txKk",
        "outputId": "3e56a617-7c4e-41f4-c87c-3d4f51a32038"
      },
      "source": [
        "plt.figure(figsize=(15,5))\n",
        "plt.plot(range(episode_count),episode_loss,color='#afafaf')\n",
        "plt.xlabel('Episode number')\n",
        "plt.ylabel('Loss for episode')\n",
        "plt.title('Loss vs. Episode number')\n",
        "plt.show()\n"
      ],
      "id": "M2cd6Eg_txKk",
      "execution_count": null,
      "outputs": [
        {
          "output_type": "display_data",
          "data": {
            "image/png": "[encoded data removed]",
            "text/plain": [
              "<Figure size 1080x360 with 1 Axes>"
            ]
          },
          "metadata": {
            "needs_background": "light"
          }
        }
      ]
    },
    {
      "cell_type": "code",
      "metadata": {
        "colab": {
          "base_uri": "https://localhost:8080/",
          "height": 350
        },
        "id": "UWwPhRB2uLUk",
        "outputId": "6a10cac0-1b70-4a4d-8f62-71ea1b3f8c5e"
      },
      "source": [
        "plt.figure(figsize=(15,5))\n",
        "plt.plot(range(episode_count),times,color='#3e62ff')\n",
        "plt.xlabel('Episode number')\n",
        "plt.ylabel('Duration for episode')\n",
        "plt.title('Duration (in seconds) vs. Episode number')\n",
        "plt.show()"
      ],
      "id": "UWwPhRB2uLUk",
      "execution_count": null,
      "outputs": [
        {
          "output_type": "display_data",
          "data": {
            "image/png": "[encoded data removed]",
            "text/plain": [
              "<Figure size 1080x360 with 1 Axes>"
            ]
          },
          "metadata": {
            "needs_background": "light"
          }
        }
      ]
    },
    {
      "cell_type": "markdown",
      "metadata": {
        "id": "5uddw11wurzH"
      },
      "source": [
        "Hence,we are able to achieve the highest average reward of **260.6367** in the interval of 1980-1990 episodes. However, we cross the target of a reward of 200 **within 600 episodes**. \n",
        "\n",
        "Key areas of speed improvement came from:\n",
        "Changing actions from float to long\n",
        "\n",
        "1.   Changing index selection in random.sample() to object selection\n",
        "2.   Trying to avoid a for loop in sample() destroyed my performance as I tried to convert to a numpy array to use range slicing\n",
        "2.   Detach() the result tensor of q*(1-dones) from the gradient\n",
        "\n",
        "Hyper parameters were taken from the Deep Reinforcement Learning git"
      ],
      "id": "5uddw11wurzH"
    }
  ]
}